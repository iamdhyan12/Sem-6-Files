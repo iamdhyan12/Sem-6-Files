{
 "cells": [
  {
   "cell_type": "markdown",
   "id": "56fb1d0c",
   "metadata": {},
   "source": [
    " <h1>20BCE020 <br>\n",
    "Practical-10 IRS <br>\n",
    "Implement the Soundex algorithm. Your code should generate four-character codes based on the pronunciation of English words.\n",
    "    <br>"
   ]
  },
  {
   "cell_type": "code",
   "execution_count": 1,
   "id": "117cf35c",
   "metadata": {},
   "outputs": [
    {
     "data": {
      "text/plain": [
       "'\\nReplace A,E,I,O,U,H,W,Y with 0\\nB,F,P,V with 1\\nC,G,J,K,Q,S,X,Z with 2\\nD,T with 3\\nL with 4\\nM,N with 5\\nR with 6\\n'"
      ]
     },
     "execution_count": 1,
     "metadata": {},
     "output_type": "execute_result"
    }
   ],
   "source": [
    "import pandas as pd\n",
    "import numpy as np\n",
    "\n",
    "'''\n",
    "Replace A,E,I,O,U,H,W,Y with 0\n",
    "B,F,P,V with 1\n",
    "C,G,J,K,Q,S,X,Z with 2\n",
    "D,T with 3\n",
    "L with 4\n",
    "M,N with 5\n",
    "R with 6\n",
    "'''"
   ]
  },
  {
   "cell_type": "code",
   "execution_count": 8,
   "id": "8125878e",
   "metadata": {},
   "outputs": [],
   "source": [
    "def str_repalce(string):\n",
    "    w1=['a','e','i','o','u','h','w','y','z']\n",
    "    w3=['c','g','j','k','q','s','x','z']\n",
    "    w2=['b','f','p','v']\n",
    "    w4=['d','t']\n",
    "    w5=['l']\n",
    "    w6=['m','n']\n",
    "    w7=['r']\n",
    "    temp=[]\n",
    "    for i in range(1,len(string)):\n",
    "        if string[i] in w1:\n",
    "            temp.append(0)\n",
    "            \n",
    "        elif string[i] in w2:\n",
    "            temp.append(1)\n",
    "           \n",
    "        elif string[i] in w3:\n",
    "            temp.append(2)\n",
    "            \n",
    "        elif string[i] in w4:\n",
    "            temp.append(3)\n",
    "           \n",
    "        elif string[i] in w5:\n",
    "            temp.append(4)\n",
    "            \n",
    "        elif string[i] in w6:\n",
    "            temp.append(5)\n",
    "            \n",
    "        elif string[i] in w7:\n",
    "            temp.append(6)\n",
    "            \n",
    "    return temp"
   ]
  },
  {
   "cell_type": "code",
   "execution_count": 3,
   "id": "e243d8f5",
   "metadata": {},
   "outputs": [],
   "source": [
    "def remove_cons(tt):\n",
    "    pre=None\n",
    "    ans=[]\n",
    "    for x in tt:\n",
    "        if x!=pre:\n",
    "            ans.append(x)\n",
    "        pre=x\n",
    "    return ans"
   ]
  },
  {
   "cell_type": "code",
   "execution_count": 4,
   "id": "35d6781e",
   "metadata": {},
   "outputs": [],
   "source": [
    "def final_str(ff,fs):\n",
    "    m=[]\n",
    "    for i in ff:\n",
    "        if i==0:\n",
    "            continue\n",
    "        else:\n",
    "            m.append(str(i))\n",
    "    fs+=''.join(m)\n",
    "    \n",
    "    if len(fs)>=4:\n",
    "        fs=fs[:4]\n",
    "    elif len(fs)==3:\n",
    "        fs+=\"0\"\n",
    "    elif len(fs)==2:\n",
    "        fs+=\"00\"\n",
    "    elif len(fs)==1:\n",
    "        fs+=\"000\"\n",
    "    return fs\n",
    "            "
   ]
  },
  {
   "cell_type": "code",
   "execution_count": 9,
   "id": "a1e92612",
   "metadata": {},
   "outputs": [
    {
     "name": "stdout",
     "output_type": "stream",
     "text": [
      "Enter the Word whose 4 word code is to be generated : vashington\n",
      "4 digit code of vashington is v252\n"
     ]
    }
   ],
   "source": [
    "word=input(\"Enter the Word whose 4 word code is to be generated : \")\n",
    "fs=word[0]\n",
    "word=word.lower()\n",
    "l=list(word)\n",
    "l.pop(0)\n",
    "temp=str_repalce(l)\n",
    "final=remove_cons(temp)\n",
    "fcode=final_str(final,fs)\n",
    "print(\"4 digit code of \"+word+\" is \"+fcode)"
   ]
  }
 ],
 "metadata": {
  "kernelspec": {
   "display_name": "Python 3 (ipykernel)",
   "language": "python",
   "name": "python3"
  },
  "language_info": {
   "codemirror_mode": {
    "name": "ipython",
    "version": 3
   },
   "file_extension": ".py",
   "mimetype": "text/x-python",
   "name": "python",
   "nbconvert_exporter": "python",
   "pygments_lexer": "ipython3",
   "version": "3.10.5"
  }
 },
 "nbformat": 4,
 "nbformat_minor": 5
}

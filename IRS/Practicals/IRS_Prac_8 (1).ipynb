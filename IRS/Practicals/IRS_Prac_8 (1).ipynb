{
 "cells": [
  {
   "cell_type": "markdown",
   "id": "4465243d",
   "metadata": {},
   "source": [
    " <h1>20BCE020 <br>\n",
    "Practical-8 IRS <br>\n",
    "Implement a Traditional Recommender System using the Collaborative Filtering technique. The recommender system predicts a rating for an unknown item for a specific user. <br>\n",
    "    User-User Collaborative Filtering"
   ]
  },
  {
   "cell_type": "code",
   "execution_count": 1,
   "id": "78ab3db9",
   "metadata": {},
   "outputs": [],
   "source": [
    "import numpy as np\n",
    "import pandas as pd"
   ]
  },
  {
   "cell_type": "code",
   "execution_count": 2,
   "id": "ba5a6c7f",
   "metadata": {},
   "outputs": [],
   "source": [
    "dict={\"User\":[\"U1\",\"U2\",\"U3\",\"U4\",\"U5\"],\n",
    " \"movie1\":[3,np.nan,5,1,5],\n",
    " \"movie2\":[5,4,1,np.nan,5],\n",
    " \"movie3\":[np.nan,5,4,2,4],\n",
    " \"movie4\":[2,1,2,2,np.nan],\n",
    " \"movie5\":[np.nan,2,np.nan,5,np.nan],\n",
    "\"movie6\":[2,np.nan,3,np.nan,4],\n",
    "\"movie7\":[np.nan,5,3,np.nan,2],\n",
    "\"movie8\":[3,4,np.nan,2,5],\n",
    "\"movie9\":[np.nan,3,1,np.nan,5],\n",
    "\"movie10\":[3.5,5,2,np.nan,np.nan]}"
   ]
  },
  {
   "cell_type": "code",
   "execution_count": 3,
   "id": "94e4be5b",
   "metadata": {},
   "outputs": [
    {
     "name": "stdout",
     "output_type": "stream",
     "text": [
      "{'User': ['U1', 'U2', 'U3', 'U4', 'U5'], 'movie1': [3, nan, 5, 1, 5], 'movie2': [5, 4, 1, nan, 5], 'movie3': [nan, 5, 4, 2, 4], 'movie4': [2, 1, 2, 2, nan], 'movie5': [nan, 2, nan, 5, nan], 'movie6': [2, nan, 3, nan, 4], 'movie7': [nan, 5, 3, nan, 2], 'movie8': [3, 4, nan, 2, 5], 'movie9': [nan, 3, 1, nan, 5], 'movie10': [3.5, 5, 2, nan, nan]}\n"
     ]
    }
   ],
   "source": [
    "print(dict)"
   ]
  },
  {
   "cell_type": "code",
   "execution_count": 4,
   "id": "bc67a598",
   "metadata": {},
   "outputs": [],
   "source": [
    "df=pd.DataFrame(dict)"
   ]
  },
  {
   "cell_type": "code",
   "execution_count": 5,
   "id": "4aabe850",
   "metadata": {},
   "outputs": [],
   "source": [
    "df=df.set_index('User')"
   ]
  },
  {
   "cell_type": "code",
   "execution_count": 6,
   "id": "47e8d0cb",
   "metadata": {},
   "outputs": [
    {
     "name": "stdout",
     "output_type": "stream",
     "text": [
      "      movie1  movie2  movie3  movie4  movie5  movie6  movie7  movie8  movie9  \\\n",
      "User                                                                           \n",
      "U1       3.0     5.0     NaN     2.0     NaN     2.0     NaN     3.0     NaN   \n",
      "U2       NaN     4.0     5.0     1.0     2.0     NaN     5.0     4.0     3.0   \n",
      "U3       5.0     1.0     4.0     2.0     NaN     3.0     3.0     NaN     1.0   \n",
      "U4       1.0     NaN     2.0     2.0     5.0     NaN     NaN     2.0     NaN   \n",
      "U5       5.0     5.0     4.0     NaN     NaN     4.0     2.0     5.0     5.0   \n",
      "\n",
      "      movie10  \n",
      "User           \n",
      "U1        3.5  \n",
      "U2        5.0  \n",
      "U3        2.0  \n",
      "U4        NaN  \n",
      "U5        NaN  \n"
     ]
    }
   ],
   "source": [
    "print(df)"
   ]
  },
  {
   "cell_type": "code",
   "execution_count": 7,
   "id": "d3b1bac5",
   "metadata": {},
   "outputs": [],
   "source": [
    "row_mean=df.mean(axis=1)"
   ]
  },
  {
   "cell_type": "code",
   "execution_count": 8,
   "id": "1565876b",
   "metadata": {},
   "outputs": [
    {
     "name": "stdout",
     "output_type": "stream",
     "text": [
      "User\n",
      "U1    3.083333\n",
      "U2    3.625000\n",
      "U3    2.625000\n",
      "U4    2.400000\n",
      "U5    4.285714\n",
      "dtype: float64\n"
     ]
    }
   ],
   "source": [
    "print(row_mean)"
   ]
  },
  {
   "cell_type": "code",
   "execution_count": 9,
   "id": "f0b63ae8",
   "metadata": {},
   "outputs": [
    {
     "name": "stdout",
     "output_type": "stream",
     "text": [
      "      movie1  movie2  movie3  movie4  movie5  movie6  movie7  movie8  movie9  \\\n",
      "User                                                                           \n",
      "U1       3.0     5.0     NaN     2.0     NaN     2.0     NaN     3.0     NaN   \n",
      "U2       NaN     4.0     5.0     1.0     2.0     NaN     5.0     4.0     3.0   \n",
      "U3       5.0     1.0     4.0     2.0     NaN     3.0     3.0     NaN     1.0   \n",
      "U4       1.0     NaN     2.0     2.0     5.0     NaN     NaN     2.0     NaN   \n",
      "U5       5.0     5.0     4.0     NaN     NaN     4.0     2.0     5.0     5.0   \n",
      "\n",
      "      movie10  \n",
      "User           \n",
      "U1        3.5  \n",
      "U2        5.0  \n",
      "U3        2.0  \n",
      "U4        NaN  \n",
      "U5        NaN  \n"
     ]
    }
   ],
   "source": [
    "print(df)"
   ]
  },
  {
   "cell_type": "code",
   "execution_count": 10,
   "id": "b003c700",
   "metadata": {},
   "outputs": [],
   "source": [
    "ddf = df.sub(row_mean, axis=0)"
   ]
  },
  {
   "cell_type": "code",
   "execution_count": 11,
   "id": "77df9157",
   "metadata": {},
   "outputs": [
    {
     "name": "stdout",
     "output_type": "stream",
     "text": [
      "      movie1  movie2  movie3  movie4  movie5  movie6  movie7  movie8  movie9  \\\n",
      "User                                                                           \n",
      "U1       3.0     5.0     0.0     2.0     0.0     2.0     0.0     3.0     0.0   \n",
      "U2       0.0     4.0     5.0     1.0     2.0     0.0     5.0     4.0     3.0   \n",
      "U3       5.0     1.0     4.0     2.0     0.0     3.0     3.0     0.0     1.0   \n",
      "U4       1.0     0.0     2.0     2.0     5.0     0.0     0.0     2.0     0.0   \n",
      "U5       5.0     5.0     4.0     0.0     0.0     4.0     2.0     5.0     5.0   \n",
      "\n",
      "      movie10  \n",
      "User           \n",
      "U1        3.5  \n",
      "U2        5.0  \n",
      "U3        2.0  \n",
      "U4        0.0  \n",
      "U5        0.0  \n"
     ]
    }
   ],
   "source": [
    "df=df.fillna(0)\n",
    "print(df)"
   ]
  },
  {
   "cell_type": "code",
   "execution_count": 12,
   "id": "dab6495a",
   "metadata": {},
   "outputs": [
    {
     "name": "stdout",
     "output_type": "stream",
     "text": [
      "        movie1    movie2    movie3    movie4  movie5    movie6    movie7  \\\n",
      "User                                                                       \n",
      "U1   -0.083333  1.916667       NaN -1.083333     NaN -1.083333       NaN   \n",
      "U2         NaN  0.375000  1.375000 -2.625000  -1.625       NaN  1.375000   \n",
      "U3    2.375000 -1.625000  1.375000 -0.625000     NaN  0.375000  0.375000   \n",
      "U4   -1.400000       NaN -0.400000 -0.400000   2.600       NaN       NaN   \n",
      "U5    0.714286  0.714286 -0.285714       NaN     NaN -0.285714 -2.285714   \n",
      "\n",
      "        movie8    movie9   movie10  \n",
      "User                                \n",
      "U1   -0.083333       NaN  0.416667  \n",
      "U2    0.375000 -0.625000  1.375000  \n",
      "U3         NaN -1.625000 -0.625000  \n",
      "U4   -0.400000       NaN       NaN  \n",
      "U5    0.714286  0.714286       NaN  \n"
     ]
    }
   ],
   "source": [
    "print(ddf)"
   ]
  },
  {
   "cell_type": "code",
   "execution_count": 13,
   "id": "4492be9a",
   "metadata": {},
   "outputs": [],
   "source": [
    "ddf=ddf.fillna(0)"
   ]
  },
  {
   "cell_type": "code",
   "execution_count": 14,
   "id": "edb07e5b",
   "metadata": {},
   "outputs": [
    {
     "name": "stdout",
     "output_type": "stream",
     "text": [
      "        movie1    movie2    movie3    movie4  movie5    movie6    movie7  \\\n",
      "User                                                                       \n",
      "U1   -0.083333  1.916667  0.000000 -1.083333   0.000 -1.083333  0.000000   \n",
      "U2    0.000000  0.375000  1.375000 -2.625000  -1.625  0.000000  1.375000   \n",
      "U3    2.375000 -1.625000  1.375000 -0.625000   0.000  0.375000  0.375000   \n",
      "U4   -1.400000  0.000000 -0.400000 -0.400000   2.600  0.000000  0.000000   \n",
      "U5    0.714286  0.714286 -0.285714  0.000000   0.000 -0.285714 -2.285714   \n",
      "\n",
      "        movie8    movie9   movie10  \n",
      "User                                \n",
      "U1   -0.083333  0.000000  0.416667  \n",
      "U2    0.375000 -0.625000  1.375000  \n",
      "U3    0.000000 -1.625000 -0.625000  \n",
      "U4   -0.400000  0.000000  0.000000  \n",
      "U5    0.714286  0.714286  0.000000  \n"
     ]
    }
   ],
   "source": [
    "print(ddf)"
   ]
  },
  {
   "cell_type": "code",
   "execution_count": 15,
   "id": "b304ea78",
   "metadata": {},
   "outputs": [],
   "source": [
    "from sklearn.metrics.pairwise import cosine_similarity\n",
    "cos_sim=cosine_similarity(ddf)"
   ]
  },
  {
   "cell_type": "code",
   "execution_count": 16,
   "id": "12fe9955",
   "metadata": {},
   "outputs": [
    {
     "name": "stdout",
     "output_type": "stream",
     "text": [
      "[[ 1.          0.41340965 -0.35578204  0.07718544  0.22964228]\n",
      " [ 0.41340965  1.          0.24214444 -0.32064238 -0.31736554]\n",
      " [-0.35578204  0.24214444  1.         -0.32084672 -0.19523865]\n",
      " [ 0.07718544 -0.32064238 -0.32084672  1.         -0.1416998 ]\n",
      " [ 0.22964228 -0.31736554 -0.19523865 -0.1416998   1.        ]]\n"
     ]
    }
   ],
   "source": [
    "print(cos_sim)"
   ]
  },
  {
   "cell_type": "code",
   "execution_count": 17,
   "id": "0086a853",
   "metadata": {},
   "outputs": [
    {
     "name": "stdout",
     "output_type": "stream",
     "text": [
      "Input the Number of User(1-5):1\n",
      "Window Size:3\n",
      "Top K elements:2\n"
     ]
    }
   ],
   "source": [
    "nu=int(input(\"Input the Number of User(1-5):\"))\n",
    "win=int(input(\"Window Size:\"))\n",
    "k=int(input(\"Top K elements:\"))"
   ]
  },
  {
   "cell_type": "code",
   "execution_count": 18,
   "id": "d5c25cec",
   "metadata": {},
   "outputs": [],
   "source": [
    "arr=cos_sim[nu-1].copy()"
   ]
  },
  {
   "cell_type": "code",
   "execution_count": 19,
   "id": "11d6d96b",
   "metadata": {},
   "outputs": [
    {
     "name": "stdout",
     "output_type": "stream",
     "text": [
      "[ 1.          0.41340965 -0.35578204  0.07718544  0.22964228]\n"
     ]
    }
   ],
   "source": [
    "print(arr)"
   ]
  },
  {
   "cell_type": "code",
   "execution_count": 20,
   "id": "e75d1b7a",
   "metadata": {},
   "outputs": [
    {
     "name": "stdout",
     "output_type": "stream",
     "text": [
      "[1.0, 0.4134096486108129, 0.22964227700182316, 0.07718543692926588, -0.3557820391516031]\n"
     ]
    }
   ],
   "source": [
    "arr=sorted(arr,reverse=True)\n",
    "print(arr)"
   ]
  },
  {
   "cell_type": "code",
   "execution_count": 22,
   "id": "83daec8d",
   "metadata": {},
   "outputs": [
    {
     "name": "stdout",
     "output_type": "stream",
     "text": [
      "[ 1.          0.41340965 -0.35578204  0.07718544  0.22964228]\n"
     ]
    }
   ],
   "source": [
    "top_k=cos_sim[nu-1]\n",
    "print(top_k)\n",
    "inx=[arr.index(x) for x in top_k]"
   ]
  },
  {
   "cell_type": "code",
   "execution_count": 23,
   "id": "1f7246c4",
   "metadata": {},
   "outputs": [
    {
     "name": "stdout",
     "output_type": "stream",
     "text": [
      "[0, 1, 4, 3, 2]\n"
     ]
    }
   ],
   "source": [
    "print(inx)"
   ]
  },
  {
   "cell_type": "code",
   "execution_count": 24,
   "id": "7fba44ea",
   "metadata": {},
   "outputs": [
    {
     "name": "stdout",
     "output_type": "stream",
     "text": [
      "[1, 4, 3]\n"
     ]
    }
   ],
   "source": [
    "inx_org=inx[1:win+1]\n",
    "print(inx_org)"
   ]
  },
  {
   "cell_type": "code",
   "execution_count": 25,
   "id": "a011e792",
   "metadata": {},
   "outputs": [],
   "source": [
    "zc=ddf.columns[ddf.iloc[nu-1]==0]"
   ]
  },
  {
   "cell_type": "code",
   "execution_count": 26,
   "id": "520294a5",
   "metadata": {},
   "outputs": [
    {
     "name": "stdout",
     "output_type": "stream",
     "text": [
      "Index(['movie3', 'movie5', 'movie7', 'movie9'], dtype='object')\n"
     ]
    }
   ],
   "source": [
    "print(zc)"
   ]
  },
  {
   "cell_type": "code",
   "execution_count": 55,
   "id": "4111a8ed",
   "metadata": {},
   "outputs": [
    {
     "name": "stdout",
     "output_type": "stream",
     "text": [
      "5.0\n",
      "0.25197631533948456\n"
     ]
    }
   ],
   "source": [
    "print(df.iloc[1][zc[0]])\n",
    "print(cos_sim[nu-1][inx_org[1]])"
   ]
  },
  {
   "cell_type": "code",
   "execution_count": 27,
   "id": "f399387e",
   "metadata": {},
   "outputs": [],
   "source": [
    "pred_rating=[]\n",
    "for i in range(len(zc)):\n",
    "    col=zc[i]\n",
    "    simi=0\n",
    "    num=0\n",
    "    den=0\n",
    "    for j in range(len(inx_org)):\n",
    "        num+= (cos_sim[nu-1][inx_org[j]])*(df.iloc[inx_org[j]][col])\n",
    "        den+=cos_sim[nu-1][inx_org[j]]\n",
    "    simi=num/den\n",
    "    pred_rating.append(simi)"
   ]
  },
  {
   "cell_type": "code",
   "execution_count": 28,
   "id": "d9203765",
   "metadata": {},
   "outputs": [
    {
     "name": "stdout",
     "output_type": "stream",
     "text": [
      "[4.359657507683393, 1.6838150100792637, 3.5076391873668364, 3.316184989920735]\n"
     ]
    }
   ],
   "source": [
    "print(pred_rating)"
   ]
  },
  {
   "cell_type": "code",
   "execution_count": 29,
   "id": "9792e981",
   "metadata": {},
   "outputs": [
    {
     "name": "stdout",
     "output_type": "stream",
     "text": [
      "{'movie3': 4.359657507683393, 'movie5': 1.6838150100792637, 'movie7': 3.5076391873668364, 'movie9': 3.316184989920735}\n"
     ]
    }
   ],
   "source": [
    "pred={}\n",
    "for i in range(len(zc)):\n",
    "    pred[zc[i]]=pred_rating[i]\n",
    "print(pred)"
   ]
  },
  {
   "cell_type": "code",
   "execution_count": 30,
   "id": "086eae4d",
   "metadata": {},
   "outputs": [],
   "source": [
    "pr = (sorted(pred.items(), key=lambda x: x[1], reverse=True))"
   ]
  },
  {
   "cell_type": "code",
   "execution_count": 31,
   "id": "9572a7b7",
   "metadata": {},
   "outputs": [
    {
     "name": "stdout",
     "output_type": "stream",
     "text": [
      "[('movie3', 4.359657507683393), ('movie7', 3.5076391873668364), ('movie9', 3.316184989920735), ('movie5', 1.6838150100792637)]\n"
     ]
    }
   ],
   "source": [
    "print(pr)"
   ]
  },
  {
   "cell_type": "code",
   "execution_count": 32,
   "id": "9e4fde31",
   "metadata": {},
   "outputs": [
    {
     "name": "stdout",
     "output_type": "stream",
     "text": [
      "Recommended Movie for User 1  are:\n",
      "movie3  with rating => 4.359657507683393\n",
      "movie7  with rating => 3.5076391873668364\n",
      "movie9  with rating => 3.316184989920735\n"
     ]
    }
   ],
   "source": [
    "print(\"Recommended Movie for User\",nu,\" are:\")\n",
    "for i in range(k+1):\n",
    "    print(pr[i][0],\" with rating =>\",pr[i][1])"
   ]
  },
  {
   "cell_type": "code",
   "execution_count": 33,
   "id": "ab088523",
   "metadata": {},
   "outputs": [
    {
     "name": "stdout",
     "output_type": "stream",
     "text": [
      "      movie1  movie2  movie3  movie4  movie5  movie6  movie7  movie8  movie9  \\\n",
      "User                                                                           \n",
      "U1       3.0     5.0     0.0     2.0     0.0     2.0     0.0     3.0     0.0   \n",
      "U2       0.0     4.0     5.0     1.0     2.0     0.0     5.0     4.0     3.0   \n",
      "U3       5.0     1.0     4.0     2.0     0.0     3.0     3.0     0.0     1.0   \n",
      "U4       1.0     0.0     2.0     2.0     5.0     0.0     0.0     2.0     0.0   \n",
      "U5       5.0     5.0     4.0     0.0     0.0     4.0     2.0     5.0     5.0   \n",
      "\n",
      "      movie10  \n",
      "User           \n",
      "U1        3.5  \n",
      "U2        5.0  \n",
      "U3        2.0  \n",
      "U4        0.0  \n",
      "U5        0.0  \n"
     ]
    }
   ],
   "source": [
    "print(df)"
   ]
  },
  {
   "cell_type": "code",
   "execution_count": 34,
   "id": "2561a5f4",
   "metadata": {},
   "outputs": [],
   "source": [
    "for i in range(len(pred_rating)):\n",
    "    df.iloc[nu-1][zc[i]]=pred_rating[i]"
   ]
  },
  {
   "cell_type": "code",
   "execution_count": 35,
   "id": "9ca657c7",
   "metadata": {},
   "outputs": [
    {
     "name": "stdout",
     "output_type": "stream",
     "text": [
      "      movie1  movie2    movie3  movie4    movie5  movie6    movie7  movie8  \\\n",
      "User                                                                         \n",
      "U1       3.0     5.0  4.359658     2.0  1.683815     2.0  3.507639     3.0   \n",
      "U2       0.0     4.0  5.000000     1.0  2.000000     0.0  5.000000     4.0   \n",
      "U3       5.0     1.0  4.000000     2.0  0.000000     3.0  3.000000     0.0   \n",
      "U4       1.0     0.0  2.000000     2.0  5.000000     0.0  0.000000     2.0   \n",
      "U5       5.0     5.0  4.000000     0.0  0.000000     4.0  2.000000     5.0   \n",
      "\n",
      "        movie9  movie10  \n",
      "User                     \n",
      "U1    3.316185      3.5  \n",
      "U2    3.000000      5.0  \n",
      "U3    1.000000      2.0  \n",
      "U4    0.000000      0.0  \n",
      "U5    5.000000      0.0  \n"
     ]
    }
   ],
   "source": [
    "print(df)"
   ]
  }
 ],
 "metadata": {
  "kernelspec": {
   "display_name": "Python 3 (ipykernel)",
   "language": "python",
   "name": "python3"
  },
  "language_info": {
   "codemirror_mode": {
    "name": "ipython",
    "version": 3
   },
   "file_extension": ".py",
   "mimetype": "text/x-python",
   "name": "python",
   "nbconvert_exporter": "python",
   "pygments_lexer": "ipython3",
   "version": "3.9.7"
  }
 },
 "nbformat": 4,
 "nbformat_minor": 5
}

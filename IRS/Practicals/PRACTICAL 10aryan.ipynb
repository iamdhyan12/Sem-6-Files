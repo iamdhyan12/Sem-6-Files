{
 "cells": [
  {
   "cell_type": "markdown",
   "id": "4d2891cc",
   "metadata": {},
   "source": [
    "SOUNDEX ALGORITHM"
   ]
  },
  {
   "cell_type": "code",
   "execution_count": 1,
   "id": "18b9584a",
   "metadata": {},
   "outputs": [
    {
     "name": "stdout",
     "output_type": "stream",
     "text": [
      "India\n"
     ]
    }
   ],
   "source": [
    "word=input()\n",
    "word=word.lower()"
   ]
  },
  {
   "cell_type": "code",
   "execution_count": 2,
   "id": "0622be3f",
   "metadata": {},
   "outputs": [
    {
     "data": {
      "text/plain": [
       "['i', 'n', 'd', 'i', 'a']"
      ]
     },
     "execution_count": 2,
     "metadata": {},
     "output_type": "execute_result"
    }
   ],
   "source": [
    "newword=[]\n",
    "for i in word:\n",
    "    newword.append(i)\n",
    "newword"
   ]
  },
  {
   "cell_type": "code",
   "execution_count": 3,
   "id": "e8233b0a",
   "metadata": {},
   "outputs": [
    {
     "data": {
      "text/plain": [
       "['i', 5, 3, 0, 0]"
      ]
     },
     "execution_count": 3,
     "metadata": {},
     "output_type": "execute_result"
    }
   ],
   "source": [
    "#STEP 1, 2 and 3\n",
    "for i in range(len(newword)):\n",
    "    if i==0:\n",
    "        continue\n",
    "    if newword[i]=='a' or newword[i]=='e' or newword[i]=='i' or newword[i]=='o' or newword[i]=='u' or newword[i]=='h' or newword[i]=='w' or newword[i]=='y':\n",
    "        newword[i]=0\n",
    "    if newword[i]=='b' or newword[i]=='f' or newword[i]=='p' or newword[i]=='v':\n",
    "        newword[i]=1\n",
    "    if newword[i]=='c' or newword[i]=='g' or newword[i]=='j' or newword[i]=='k' or newword[i]=='q' or newword[i]=='s' or newword[i]=='x' or newword[i]=='z':\n",
    "        newword[i]=2\n",
    "    if newword[i]=='d' or newword[i]=='t':\n",
    "        newword[i]=3\n",
    "    if newword[i]=='l':\n",
    "        newword[i]=4\n",
    "    if newword[i]=='m' or newword[i]=='n':\n",
    "        newword[i]=5\n",
    "    if newword[i]=='r':\n",
    "        newword[i]=6\n",
    "    \n",
    "newword\n",
    "    \n",
    "        "
   ]
  },
  {
   "cell_type": "code",
   "execution_count": 4,
   "id": "3680add9",
   "metadata": {},
   "outputs": [
    {
     "data": {
      "text/plain": [
       "['i', 5, 3]"
      ]
     },
     "execution_count": 4,
     "metadata": {},
     "output_type": "execute_result"
    }
   ],
   "source": [
    "#STEP 4 and 5\n",
    "for i in range(len(newword)):\n",
    "    if i==0:\n",
    "        continue\n",
    "    if newword[i]==0:\n",
    "        newword[i]=-1\n",
    "    if newword[i]==newword[i-1]:\n",
    "        newword[i-1]=-1\n",
    "    \n",
    "while newword.count(-1)>0:\n",
    "    newword.remove(-1)\n",
    "newword\n"
   ]
  },
  {
   "cell_type": "code",
   "execution_count": 5,
   "id": "4a96f15c",
   "metadata": {},
   "outputs": [
    {
     "name": "stdout",
     "output_type": "stream",
     "text": [
      "['i', 5, 3, 0]\n"
     ]
    }
   ],
   "source": [
    "if len(newword)>4:\n",
    "    print(newword[:4])\n",
    "elif len(newword)==4:\n",
    "    print(newword)\n",
    "elif len(newword)<4:\n",
    "    app=4-len(newword)\n",
    "    l=[]\n",
    "    for i in range(app):\n",
    "        l.append(0)\n",
    "    newword.extend(l)\n",
    "    print(newword)\n"
   ]
  },
  {
   "cell_type": "code",
   "execution_count": null,
   "id": "111752c6",
   "metadata": {},
   "outputs": [],
   "source": []
  },
  {
   "cell_type": "code",
   "execution_count": null,
   "id": "8e96dcab",
   "metadata": {},
   "outputs": [],
   "source": []
  }
 ],
 "metadata": {
  "kernelspec": {
   "display_name": "Python 3 (ipykernel)",
   "language": "python",
   "name": "python3"
  },
  "language_info": {
   "codemirror_mode": {
    "name": "ipython",
    "version": 3
   },
   "file_extension": ".py",
   "mimetype": "text/x-python",
   "name": "python",
   "nbconvert_exporter": "python",
   "pygments_lexer": "ipython3",
   "version": "3.9.7"
  }
 },
 "nbformat": 4,
 "nbformat_minor": 5
}

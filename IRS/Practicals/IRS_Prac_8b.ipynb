{
 "cells": [
  {
   "cell_type": "markdown",
   "id": "481a7086",
   "metadata": {},
   "source": [
    " <h1>20BCE020 <br>\n",
    "Practical-8 IRS <br>\n",
    "Implement a Traditional Recommender System using the Collaborative Filtering technique. The recommender system predicts a rating for an unknown item for a specific user. <br>\n",
    "Item-Item Collaborative Filtering"
   ]
  },
  {
   "cell_type": "code",
   "execution_count": 1,
   "id": "2f1071ce",
   "metadata": {},
   "outputs": [],
   "source": [
    "import numpy as np\n",
    "import pandas as pd"
   ]
  },
  {
   "cell_type": "code",
   "execution_count": 2,
   "id": "49141372",
   "metadata": {},
   "outputs": [],
   "source": [
    "dict={\"User\":[\"U1\",\"U2\",\"U3\",\"U4\",\"U5\"],\n",
    " \"movie1\":[3,np.nan,5,1,5],\n",
    " \"movie2\":[5,4,1,np.nan,5],\n",
    " \"movie3\":[np.nan,5,4,2,4],\n",
    " \"movie4\":[2,1,2,2,np.nan],\n",
    " \"movie5\":[np.nan,2,np.nan,5,np.nan],\n",
    "\"movie6\":[2,np.nan,3,np.nan,4],\n",
    "\"movie7\":[np.nan,5,3,np.nan,2],\n",
    "\"movie8\":[3,4,np.nan,2,5],\n",
    "\"movie9\":[np.nan,3,1,np.nan,5],\n",
    "\"movie10\":[3.5,5,2,np.nan,np.nan]}"
   ]
  },
  {
   "cell_type": "code",
   "execution_count": 3,
   "id": "79babe40",
   "metadata": {},
   "outputs": [
    {
     "name": "stdout",
     "output_type": "stream",
     "text": [
      "{'User': ['U1', 'U2', 'U3', 'U4', 'U5'], 'movie1': [3, nan, 5, 1, 5], 'movie2': [5, 4, 1, nan, 5], 'movie3': [nan, 5, 4, 2, 4], 'movie4': [2, 1, 2, 2, nan], 'movie5': [nan, 2, nan, 5, nan], 'movie6': [2, nan, 3, nan, 4], 'movie7': [nan, 5, 3, nan, 2], 'movie8': [3, 4, nan, 2, 5], 'movie9': [nan, 3, 1, nan, 5], 'movie10': [3.5, 5, 2, nan, nan]}\n"
     ]
    }
   ],
   "source": [
    "print(dict)\n",
    "df=pd.DataFrame(dict)\n",
    "df=df.set_index('User')"
   ]
  },
  {
   "cell_type": "code",
   "execution_count": 4,
   "id": "7fd004f6",
   "metadata": {},
   "outputs": [
    {
     "name": "stdout",
     "output_type": "stream",
     "text": [
      "      movie1  movie2  movie3  movie4  movie5  movie6  movie7  movie8  movie9  \\\n",
      "User                                                                           \n",
      "U1       3.0     5.0     NaN     2.0     NaN     2.0     NaN     3.0     NaN   \n",
      "U2       NaN     4.0     5.0     1.0     2.0     NaN     5.0     4.0     3.0   \n",
      "U3       5.0     1.0     4.0     2.0     NaN     3.0     3.0     NaN     1.0   \n",
      "U4       1.0     NaN     2.0     2.0     5.0     NaN     NaN     2.0     NaN   \n",
      "U5       5.0     5.0     4.0     NaN     NaN     4.0     2.0     5.0     5.0   \n",
      "\n",
      "      movie10  \n",
      "User           \n",
      "U1        3.5  \n",
      "U2        5.0  \n",
      "U3        2.0  \n",
      "U4        NaN  \n",
      "U5        NaN  \n"
     ]
    }
   ],
   "source": [
    "print(df)"
   ]
  },
  {
   "cell_type": "code",
   "execution_count": 5,
   "id": "aeb987b0",
   "metadata": {},
   "outputs": [
    {
     "name": "stdout",
     "output_type": "stream",
     "text": [
      "movie1     3.500000\n",
      "movie2     3.750000\n",
      "movie3     3.750000\n",
      "movie4     1.750000\n",
      "movie5     3.500000\n",
      "movie6     3.000000\n",
      "movie7     3.333333\n",
      "movie8     3.500000\n",
      "movie9     3.000000\n",
      "movie10    3.500000\n",
      "dtype: float64\n"
     ]
    }
   ],
   "source": [
    "col_mean=df.mean(axis=0)\n",
    "print(col_mean)"
   ]
  },
  {
   "cell_type": "code",
   "execution_count": 6,
   "id": "5275cceb",
   "metadata": {},
   "outputs": [],
   "source": [
    "ddf = df.sub(col_mean, axis=1)"
   ]
  },
  {
   "cell_type": "code",
   "execution_count": 7,
   "id": "423070ab",
   "metadata": {},
   "outputs": [
    {
     "name": "stdout",
     "output_type": "stream",
     "text": [
      "      movie1  movie2  movie3  movie4  movie5  movie6    movie7  movie8  \\\n",
      "User                                                                     \n",
      "U1      -0.5    1.25     NaN    0.25     NaN    -1.0       NaN    -0.5   \n",
      "U2       NaN    0.25    1.25   -0.75    -1.5     NaN  1.666667     0.5   \n",
      "U3       1.5   -2.75    0.25    0.25     NaN     0.0 -0.333333     NaN   \n",
      "U4      -2.5     NaN   -1.75    0.25     1.5     NaN       NaN    -1.5   \n",
      "U5       1.5    1.25    0.25     NaN     NaN     1.0 -1.333333     1.5   \n",
      "\n",
      "      movie9  movie10  \n",
      "User                   \n",
      "U1       NaN      0.0  \n",
      "U2       0.0      1.5  \n",
      "U3      -2.0     -1.5  \n",
      "U4       NaN      NaN  \n",
      "U5       2.0      NaN  \n"
     ]
    }
   ],
   "source": [
    "print(ddf)"
   ]
  },
  {
   "cell_type": "code",
   "execution_count": 8,
   "id": "7f141365",
   "metadata": {},
   "outputs": [
    {
     "name": "stdout",
     "output_type": "stream",
     "text": [
      "      movie1  movie2  movie3  movie4  movie5  movie6  movie7  movie8  movie9  \\\n",
      "User                                                                           \n",
      "U1       3.0     5.0     0.0     2.0     0.0     2.0     0.0     3.0     0.0   \n",
      "U2       0.0     4.0     5.0     1.0     2.0     0.0     5.0     4.0     3.0   \n",
      "U3       5.0     1.0     4.0     2.0     0.0     3.0     3.0     0.0     1.0   \n",
      "U4       1.0     0.0     2.0     2.0     5.0     0.0     0.0     2.0     0.0   \n",
      "U5       5.0     5.0     4.0     0.0     0.0     4.0     2.0     5.0     5.0   \n",
      "\n",
      "      movie10  \n",
      "User           \n",
      "U1        3.5  \n",
      "U2        5.0  \n",
      "U3        2.0  \n",
      "U4        0.0  \n",
      "U5        0.0  \n"
     ]
    }
   ],
   "source": [
    "df=df.fillna(0)\n",
    "print(df)"
   ]
  },
  {
   "cell_type": "code",
   "execution_count": 9,
   "id": "795a5d5a",
   "metadata": {},
   "outputs": [
    {
     "name": "stdout",
     "output_type": "stream",
     "text": [
      "      movie1  movie2  movie3  movie4  movie5  movie6    movie7  movie8  \\\n",
      "User                                                                     \n",
      "U1      -0.5    1.25    0.00    0.25     0.0    -1.0  0.000000    -0.5   \n",
      "U2       0.0    0.25    1.25   -0.75    -1.5     0.0  1.666667     0.5   \n",
      "U3       1.5   -2.75    0.25    0.25     0.0     0.0 -0.333333     0.0   \n",
      "U4      -2.5    0.00   -1.75    0.25     1.5     0.0  0.000000    -1.5   \n",
      "U5       1.5    1.25    0.25    0.00     0.0     1.0 -1.333333     1.5   \n",
      "\n",
      "      movie9  movie10  \n",
      "User                   \n",
      "U1       0.0      0.0  \n",
      "U2       0.0      1.5  \n",
      "U3      -2.0     -1.5  \n",
      "U4       0.0      0.0  \n",
      "U5       2.0      0.0  \n"
     ]
    }
   ],
   "source": [
    "ddf=ddf.fillna(0)\n",
    "print(ddf)"
   ]
  },
  {
   "cell_type": "code",
   "execution_count": 10,
   "id": "dbd570d7",
   "metadata": {},
   "outputs": [],
   "source": [
    "ddf_t=ddf.transpose()"
   ]
  },
  {
   "cell_type": "code",
   "execution_count": 11,
   "id": "40d537f2",
   "metadata": {},
   "outputs": [
    {
     "name": "stdout",
     "output_type": "stream",
     "text": [
      "User       U1        U2        U3    U4        U5\n",
      "movie1  -0.50  0.000000  1.500000 -2.50  1.500000\n",
      "movie2   1.25  0.250000 -2.750000  0.00  1.250000\n",
      "movie3   0.00  1.250000  0.250000 -1.75  0.250000\n",
      "movie4   0.25 -0.750000  0.250000  0.25  0.000000\n",
      "movie5   0.00 -1.500000  0.000000  1.50  0.000000\n",
      "movie6  -1.00  0.000000  0.000000  0.00  1.000000\n",
      "movie7   0.00  1.666667 -0.333333  0.00 -1.333333\n",
      "movie8  -0.50  0.500000  0.000000 -1.50  1.500000\n",
      "movie9   0.00  0.000000 -2.000000  0.00  2.000000\n",
      "movie10  0.00  1.500000 -1.500000  0.00  0.000000\n"
     ]
    }
   ],
   "source": [
    "print(ddf_t)"
   ]
  },
  {
   "cell_type": "code",
   "execution_count": 12,
   "id": "6b247d10",
   "metadata": {},
   "outputs": [
    {
     "name": "stdout",
     "output_type": "stream",
     "text": [
      "[[ 1.00000000e+00 -2.64385282e-01  7.09007325e-01 -1.30558242e-01\n",
      "  -5.33001791e-01  4.26401433e-01 -3.48931579e-01  8.42749828e-01\n",
      "   2.20587927e-17 -3.19801075e-01]\n",
      " [-2.64385282e-01  1.00000000e+00 -8.74639286e-03 -1.98101454e-01\n",
      "  -5.39163866e-02  2.58302189e-17 -4.70620805e-02  1.87548443e-01\n",
      "   8.62662186e-01  6.46996639e-01]\n",
      " [ 7.09007325e-01 -8.74639286e-03  1.00000000e+00 -6.95379487e-01\n",
      "  -9.73328527e-01  8.11107106e-02  3.53996163e-01  7.43834305e-01\n",
      "  -3.95004610e-18  3.24442842e-01]\n",
      " [-1.30558242e-01 -1.98101454e-01 -6.95379487e-01  1.00000000e+00\n",
      "   8.16496581e-01 -2.04124145e-01 -7.12696645e-01 -4.51848057e-01\n",
      "  -2.04124145e-01 -8.16496581e-01]\n",
      " [-5.33001791e-01 -5.39163866e-02 -9.73328527e-01  8.16496581e-01\n",
      "   1.00000000e+00  0.00000000e+00 -5.45544726e-01 -6.32455532e-01\n",
      "   0.00000000e+00 -5.00000000e-01]\n",
      " [ 4.26401433e-01  2.58302189e-17  8.11107106e-02 -2.04124145e-01\n",
      "   0.00000000e+00  1.00000000e+00 -4.36435780e-01  6.32455532e-01\n",
      "   5.00000000e-01  0.00000000e+00]\n",
      " [-3.48931579e-01 -4.70620805e-02  3.53996163e-01 -7.12696645e-01\n",
      "  -5.45544726e-01 -4.36435780e-01  1.00000000e+00 -2.41522946e-01\n",
      "  -3.27326835e-01  6.54653671e-01]\n",
      " [ 8.42749828e-01  1.87548443e-01  7.43834305e-01 -4.51848057e-01\n",
      "  -6.32455532e-01  6.32455532e-01 -2.41522946e-01  1.00000000e+00\n",
      "   4.74341649e-01  1.58113883e-01]\n",
      " [ 2.20587927e-17  8.62662186e-01 -3.95004610e-18 -2.04124145e-01\n",
      "   0.00000000e+00  5.00000000e-01 -3.27326835e-01  4.74341649e-01\n",
      "   1.00000000e+00  5.00000000e-01]\n",
      " [-3.19801075e-01  6.46996639e-01  3.24442842e-01 -8.16496581e-01\n",
      "  -5.00000000e-01  0.00000000e+00  6.54653671e-01  1.58113883e-01\n",
      "   5.00000000e-01  1.00000000e+00]]\n"
     ]
    }
   ],
   "source": [
    "from sklearn.metrics.pairwise import cosine_similarity\n",
    "cos_sim=cosine_similarity(ddf_t)\n",
    "print(cos_sim)"
   ]
  },
  {
   "cell_type": "code",
   "execution_count": 13,
   "id": "0b4257cd",
   "metadata": {},
   "outputs": [],
   "source": [
    "d={\"movie1\":0,\n",
    "  \"movie2\":1,\n",
    "  \"movie3\":2,\n",
    "  \"movie4\":3,\n",
    "  \"movie5\":4,\n",
    "  \"movie6\":5,\n",
    "  \"movie7\":6,\n",
    "  \"movie8\":7,\n",
    "  \"movie9\":8,\n",
    "  \"movie10\":9}"
   ]
  },
  {
   "cell_type": "code",
   "execution_count": 14,
   "id": "312af607",
   "metadata": {},
   "outputs": [
    {
     "name": "stdout",
     "output_type": "stream",
     "text": [
      "Input the Number of User(1-5):1\n",
      "Window Size:3\n",
      "Top K elements:2\n"
     ]
    }
   ],
   "source": [
    "nu=int(input(\"Input the Number of User(1-5):\"))\n",
    "win=int(input(\"Window Size:\"))\n",
    "k=int(input(\"Top K elements:\"))"
   ]
  },
  {
   "cell_type": "code",
   "execution_count": 15,
   "id": "4e686f3b",
   "metadata": {},
   "outputs": [
    {
     "name": "stdout",
     "output_type": "stream",
     "text": [
      "Index(['movie3', 'movie5', 'movie7', 'movie9', 'movie10'], dtype='object')\n"
     ]
    }
   ],
   "source": [
    "zc=ddf.columns[ddf.iloc[nu-1]==0]\n",
    "print(zc)"
   ]
  },
  {
   "cell_type": "code",
   "execution_count": 16,
   "id": "4ebea3b5",
   "metadata": {},
   "outputs": [
    {
     "name": "stdout",
     "output_type": "stream",
     "text": [
      "[2, 4, 6, 8, 9]\n"
     ]
    }
   ],
   "source": [
    "zc_inx=[]\n",
    "for i in range(len(zc)):\n",
    "    zc_inx.append(d[zc[i]])\n",
    "print(zc_inx)"
   ]
  },
  {
   "cell_type": "code",
   "execution_count": 31,
   "id": "b343cc66",
   "metadata": {},
   "outputs": [
    {
     "data": {
      "text/plain": [
       "array([ 7.09007325e-01, -8.74639286e-03,  1.00000000e+00, -6.95379487e-01,\n",
       "       -9.73328527e-01,  8.11107106e-02,  3.53996163e-01,  7.43834305e-01,\n",
       "       -3.95004610e-18,  3.24442842e-01])"
      ]
     },
     "execution_count": 31,
     "metadata": {},
     "output_type": "execute_result"
    }
   ],
   "source": [
    "cos_sim[2]"
   ]
  },
  {
   "cell_type": "code",
   "execution_count": 57,
   "id": "1d1e3033",
   "metadata": {},
   "outputs": [
    {
     "name": "stdout",
     "output_type": "stream",
     "text": [
      "{'movie3': 2.412239166143957, 'movie5': 2.0, 'movie7': 2.13810693684415, 'movie9': 3.3894019950862226, 'movie10': 1.7955666414706983}\n"
     ]
    }
   ],
   "source": [
    "pred_rating={}\n",
    "for i in range(len(zc)):\n",
    "    a=cos_sim[zc_inx[i]].copy()\n",
    "   \n",
    "    a=sorted(a,reverse=True)\n",
    "    \n",
    "    ar=[round(num,5) for num in a]\n",
    "    \n",
    "    t_k=list(cos_sim[zc_inx[i]])\n",
    "    tr=[round(num,5) for num in t_k]\n",
    "    \n",
    "    inx=[]\n",
    "    for j in range(len(ar)):\n",
    "        inx.append(tr.index(ar[j]))\n",
    "    inx_org=inx[1:win+1]\n",
    "    col=zc[i]\n",
    "    num,deno=0,0\n",
    "    simi=0\n",
    "    for j in range(len(inx_org)):\n",
    "        num+=(cos_sim[zc_inx[i]][inx_org[j]])*(df.iloc[nu-1][inx_org[j]])\n",
    "        deno+=(cos_sim[zc_inx[i]][inx_org[j]])\n",
    "    simi=num/deno\n",
    "    pred_rating[col]=simi\n",
    "    \n",
    "print(pred_rating)"
   ]
  },
  {
   "cell_type": "code",
   "execution_count": 60,
   "id": "0626ab50",
   "metadata": {},
   "outputs": [
    {
     "name": "stdout",
     "output_type": "stream",
     "text": [
      "[('movie9', 3.3894019950862226), ('movie3', 2.412239166143957), ('movie7', 2.13810693684415), ('movie5', 2.0), ('movie10', 1.7955666414706983)]\n"
     ]
    }
   ],
   "source": [
    "pr = (sorted(pred_rating.items(), key=lambda x: x[1], reverse=True))\n",
    "print(pr)"
   ]
  },
  {
   "cell_type": "code",
   "execution_count": 62,
   "id": "37d931d2",
   "metadata": {},
   "outputs": [
    {
     "name": "stdout",
     "output_type": "stream",
     "text": [
      "Recommended Movie for User 1  are:\n",
      "movie9  with rating => 3.3894019950862226\n",
      "movie3  with rating => 2.412239166143957\n"
     ]
    }
   ],
   "source": [
    "print(\"Recommended Movie for User\",nu,\" are:\")\n",
    "for i in range(k):\n",
    "    print(pr[i][0],\" with rating =>\",pr[i][1])"
   ]
  }
 ],
 "metadata": {
  "kernelspec": {
   "display_name": "Python 3 (ipykernel)",
   "language": "python",
   "name": "python3"
  },
  "language_info": {
   "codemirror_mode": {
    "name": "ipython",
    "version": 3
   },
   "file_extension": ".py",
   "mimetype": "text/x-python",
   "name": "python",
   "nbconvert_exporter": "python",
   "pygments_lexer": "ipython3",
   "version": "3.9.7"
  }
 },
 "nbformat": 4,
 "nbformat_minor": 5
}

{
 "cells": [
  {
   "cell_type": "markdown",
   "id": "98864909",
   "metadata": {},
   "source": [
    "Implement a Traditional Recommender System using the Collaborative Filtering technique. The recommender system predicts a rating for an unknown item for a specific user."
   ]
  },
  {
   "cell_type": "code",
   "execution_count": 1,
   "id": "f9120beb",
   "metadata": {},
   "outputs": [],
   "source": [
    "import numpy as np\n",
    "import pandas as pd"
   ]
  },
  {
   "cell_type": "markdown",
   "id": "e71953d5",
   "metadata": {},
   "source": [
    "USER-USER COLLABORATIVE FILTERING"
   ]
  },
  {
   "cell_type": "code",
   "execution_count": 39,
   "id": "642174aa",
   "metadata": {},
   "outputs": [
    {
     "data": {
      "text/html": [
       "<div>\n",
       "<style scoped>\n",
       "    .dataframe tbody tr th:only-of-type {\n",
       "        vertical-align: middle;\n",
       "    }\n",
       "\n",
       "    .dataframe tbody tr th {\n",
       "        vertical-align: top;\n",
       "    }\n",
       "\n",
       "    .dataframe thead th {\n",
       "        text-align: right;\n",
       "    }\n",
       "</style>\n",
       "<table border=\"1\" class=\"dataframe\">\n",
       "  <thead>\n",
       "    <tr style=\"text-align: right;\">\n",
       "      <th></th>\n",
       "      <th>item1</th>\n",
       "      <th>item2</th>\n",
       "      <th>item3</th>\n",
       "      <th>item4</th>\n",
       "      <th>item5</th>\n",
       "      <th>item6</th>\n",
       "    </tr>\n",
       "  </thead>\n",
       "  <tbody>\n",
       "    <tr>\n",
       "      <th>user1</th>\n",
       "      <td>3.0</td>\n",
       "      <td>NaN</td>\n",
       "      <td>5.0</td>\n",
       "      <td>1.0</td>\n",
       "      <td>5.0</td>\n",
       "      <td>2.0</td>\n",
       "    </tr>\n",
       "    <tr>\n",
       "      <th>user2</th>\n",
       "      <td>5.0</td>\n",
       "      <td>4.0</td>\n",
       "      <td>1.0</td>\n",
       "      <td>NaN</td>\n",
       "      <td>5.0</td>\n",
       "      <td>3.0</td>\n",
       "    </tr>\n",
       "    <tr>\n",
       "      <th>user3</th>\n",
       "      <td>NaN</td>\n",
       "      <td>5.0</td>\n",
       "      <td>4.0</td>\n",
       "      <td>2.0</td>\n",
       "      <td>4.0</td>\n",
       "      <td>NaN</td>\n",
       "    </tr>\n",
       "    <tr>\n",
       "      <th>user4</th>\n",
       "      <td>2.0</td>\n",
       "      <td>1.0</td>\n",
       "      <td>2.0</td>\n",
       "      <td>2.0</td>\n",
       "      <td>NaN</td>\n",
       "      <td>5.0</td>\n",
       "    </tr>\n",
       "    <tr>\n",
       "      <th>user5</th>\n",
       "      <td>NaN</td>\n",
       "      <td>2.0</td>\n",
       "      <td>NaN</td>\n",
       "      <td>5.0</td>\n",
       "      <td>NaN</td>\n",
       "      <td>NaN</td>\n",
       "    </tr>\n",
       "  </tbody>\n",
       "</table>\n",
       "</div>"
      ],
      "text/plain": [
       "       item1  item2  item3  item4  item5  item6\n",
       "user1    3.0    NaN    5.0    1.0    5.0    2.0\n",
       "user2    5.0    4.0    1.0    NaN    5.0    3.0\n",
       "user3    NaN    5.0    4.0    2.0    4.0    NaN\n",
       "user4    2.0    1.0    2.0    2.0    NaN    5.0\n",
       "user5    NaN    2.0    NaN    5.0    NaN    NaN"
      ]
     },
     "execution_count": 39,
     "metadata": {},
     "output_type": "execute_result"
    }
   ],
   "source": [
    "data={'item1':[3,5,np.nan,2,np.nan],'item2':[np.nan,4,5,1,2],'item3':[5,1,4,2,np.nan],'item4':[1,np.nan,2,2,5],'item5':[5,5,4,np.nan,np.nan],'item6':[2,3,np.nan,5,np.nan]}\n",
    "df=pd.DataFrame(data,index=['user1','user2','user3','user4','user5'])\n",
    "df\n"
   ]
  },
  {
   "cell_type": "code",
   "execution_count": 40,
   "id": "9741275e",
   "metadata": {},
   "outputs": [
    {
     "name": "stdout",
     "output_type": "stream",
     "text": [
      "[[3.2 ]\n",
      " [3.6 ]\n",
      " [3.75]\n",
      " [2.4 ]\n",
      " [3.5 ]]\n"
     ]
    }
   ],
   "source": [
    "rowmeans=(np.nanmean(df,axis=1,keepdims=True))\n",
    "print(rowmeans)"
   ]
  },
  {
   "cell_type": "code",
   "execution_count": 41,
   "id": "ade257c1",
   "metadata": {},
   "outputs": [
    {
     "name": "stdout",
     "output_type": "stream",
     "text": [
      "[[ 3. nan  5.  1.  5.  2.]\n",
      " [ 5.  4.  1. nan  5.  3.]\n",
      " [nan  5.  4.  2.  4. nan]\n",
      " [ 2.  1.  2.  2. nan  5.]\n",
      " [nan  2. nan  5. nan nan]]\n"
     ]
    }
   ],
   "source": [
    "df=np.array(df)\n",
    "print(df)\n"
   ]
  },
  {
   "cell_type": "code",
   "execution_count": 42,
   "id": "2eb4a36c",
   "metadata": {},
   "outputs": [
    {
     "name": "stdout",
     "output_type": "stream",
     "text": [
      "[[-0.2    nan  1.8  -2.2   1.8  -1.2 ]\n",
      " [ 1.4   0.4  -2.6    nan  1.4  -0.6 ]\n",
      " [  nan  1.25  0.25 -1.75  0.25   nan]\n",
      " [-0.4  -1.4  -0.4  -0.4    nan  2.6 ]\n",
      " [  nan -1.5    nan  1.5    nan   nan]]\n"
     ]
    }
   ],
   "source": [
    "df=df-rowmeans\n",
    "print(df)"
   ]
  },
  {
   "cell_type": "code",
   "execution_count": 43,
   "id": "c5a59c48",
   "metadata": {},
   "outputs": [
    {
     "data": {
      "text/html": [
       "<div>\n",
       "<style scoped>\n",
       "    .dataframe tbody tr th:only-of-type {\n",
       "        vertical-align: middle;\n",
       "    }\n",
       "\n",
       "    .dataframe tbody tr th {\n",
       "        vertical-align: top;\n",
       "    }\n",
       "\n",
       "    .dataframe thead th {\n",
       "        text-align: right;\n",
       "    }\n",
       "</style>\n",
       "<table border=\"1\" class=\"dataframe\">\n",
       "  <thead>\n",
       "    <tr style=\"text-align: right;\">\n",
       "      <th></th>\n",
       "      <th>item1</th>\n",
       "      <th>item2</th>\n",
       "      <th>item3</th>\n",
       "      <th>item4</th>\n",
       "      <th>item5</th>\n",
       "      <th>item6</th>\n",
       "    </tr>\n",
       "  </thead>\n",
       "  <tbody>\n",
       "    <tr>\n",
       "      <th>user1</th>\n",
       "      <td>-0.2</td>\n",
       "      <td>NaN</td>\n",
       "      <td>1.80</td>\n",
       "      <td>-2.20</td>\n",
       "      <td>1.80</td>\n",
       "      <td>-1.2</td>\n",
       "    </tr>\n",
       "    <tr>\n",
       "      <th>user2</th>\n",
       "      <td>1.4</td>\n",
       "      <td>0.40</td>\n",
       "      <td>-2.60</td>\n",
       "      <td>NaN</td>\n",
       "      <td>1.40</td>\n",
       "      <td>-0.6</td>\n",
       "    </tr>\n",
       "    <tr>\n",
       "      <th>user3</th>\n",
       "      <td>NaN</td>\n",
       "      <td>1.25</td>\n",
       "      <td>0.25</td>\n",
       "      <td>-1.75</td>\n",
       "      <td>0.25</td>\n",
       "      <td>NaN</td>\n",
       "    </tr>\n",
       "    <tr>\n",
       "      <th>user4</th>\n",
       "      <td>-0.4</td>\n",
       "      <td>-1.40</td>\n",
       "      <td>-0.40</td>\n",
       "      <td>-0.40</td>\n",
       "      <td>NaN</td>\n",
       "      <td>2.6</td>\n",
       "    </tr>\n",
       "    <tr>\n",
       "      <th>user5</th>\n",
       "      <td>NaN</td>\n",
       "      <td>-1.50</td>\n",
       "      <td>NaN</td>\n",
       "      <td>1.50</td>\n",
       "      <td>NaN</td>\n",
       "      <td>NaN</td>\n",
       "    </tr>\n",
       "  </tbody>\n",
       "</table>\n",
       "</div>"
      ],
      "text/plain": [
       "       item1  item2  item3  item4  item5  item6\n",
       "user1   -0.2    NaN   1.80  -2.20   1.80   -1.2\n",
       "user2    1.4   0.40  -2.60    NaN   1.40   -0.6\n",
       "user3    NaN   1.25   0.25  -1.75   0.25    NaN\n",
       "user4   -0.4  -1.40  -0.40  -0.40    NaN    2.6\n",
       "user5    NaN  -1.50    NaN   1.50    NaN    NaN"
      ]
     },
     "execution_count": 43,
     "metadata": {},
     "output_type": "execute_result"
    }
   ],
   "source": [
    "df=pd.DataFrame(df,index=['user1','user2','user3','user4','user5'],columns=['item1','item2','item3','item4','item5','item6'])\n",
    "df"
   ]
  },
  {
   "cell_type": "code",
   "execution_count": 44,
   "id": "8bcf61e7",
   "metadata": {},
   "outputs": [
    {
     "data": {
      "text/html": [
       "<div>\n",
       "<style scoped>\n",
       "    .dataframe tbody tr th:only-of-type {\n",
       "        vertical-align: middle;\n",
       "    }\n",
       "\n",
       "    .dataframe tbody tr th {\n",
       "        vertical-align: top;\n",
       "    }\n",
       "\n",
       "    .dataframe thead th {\n",
       "        text-align: right;\n",
       "    }\n",
       "</style>\n",
       "<table border=\"1\" class=\"dataframe\">\n",
       "  <thead>\n",
       "    <tr style=\"text-align: right;\">\n",
       "      <th></th>\n",
       "      <th>item1</th>\n",
       "      <th>item2</th>\n",
       "      <th>item3</th>\n",
       "      <th>item4</th>\n",
       "      <th>item5</th>\n",
       "      <th>item6</th>\n",
       "    </tr>\n",
       "  </thead>\n",
       "  <tbody>\n",
       "    <tr>\n",
       "      <th>user1</th>\n",
       "      <td>-0.2</td>\n",
       "      <td>0.00</td>\n",
       "      <td>1.80</td>\n",
       "      <td>-2.20</td>\n",
       "      <td>1.80</td>\n",
       "      <td>-1.2</td>\n",
       "    </tr>\n",
       "    <tr>\n",
       "      <th>user2</th>\n",
       "      <td>1.4</td>\n",
       "      <td>0.40</td>\n",
       "      <td>-2.60</td>\n",
       "      <td>0.00</td>\n",
       "      <td>1.40</td>\n",
       "      <td>-0.6</td>\n",
       "    </tr>\n",
       "    <tr>\n",
       "      <th>user3</th>\n",
       "      <td>0.0</td>\n",
       "      <td>1.25</td>\n",
       "      <td>0.25</td>\n",
       "      <td>-1.75</td>\n",
       "      <td>0.25</td>\n",
       "      <td>0.0</td>\n",
       "    </tr>\n",
       "    <tr>\n",
       "      <th>user4</th>\n",
       "      <td>-0.4</td>\n",
       "      <td>-1.40</td>\n",
       "      <td>-0.40</td>\n",
       "      <td>-0.40</td>\n",
       "      <td>0.00</td>\n",
       "      <td>2.6</td>\n",
       "    </tr>\n",
       "    <tr>\n",
       "      <th>user5</th>\n",
       "      <td>0.0</td>\n",
       "      <td>-1.50</td>\n",
       "      <td>0.00</td>\n",
       "      <td>1.50</td>\n",
       "      <td>0.00</td>\n",
       "      <td>0.0</td>\n",
       "    </tr>\n",
       "  </tbody>\n",
       "</table>\n",
       "</div>"
      ],
      "text/plain": [
       "       item1  item2  item3  item4  item5  item6\n",
       "user1   -0.2   0.00   1.80  -2.20   1.80   -1.2\n",
       "user2    1.4   0.40  -2.60   0.00   1.40   -0.6\n",
       "user3    0.0   1.25   0.25  -1.75   0.25    0.0\n",
       "user4   -0.4  -1.40  -0.40  -0.40   0.00    2.6\n",
       "user5    0.0  -1.50   0.00   1.50   0.00    0.0"
      ]
     },
     "execution_count": 44,
     "metadata": {},
     "output_type": "execute_result"
    }
   ],
   "source": [
    "df=df.replace(np.nan,0)\n",
    "df"
   ]
  },
  {
   "cell_type": "code",
   "execution_count": 45,
   "id": "8f801293",
   "metadata": {},
   "outputs": [
    {
     "data": {
      "text/plain": [
       "array([[-0.2 ,  0.  ,  1.8 , -2.2 ,  1.8 , -1.2 ],\n",
       "       [ 1.4 ,  0.4 , -2.6 ,  0.  ,  1.4 , -0.6 ],\n",
       "       [ 0.  ,  1.25,  0.25, -1.75,  0.25,  0.  ],\n",
       "       [-0.4 , -1.4 , -0.4 , -0.4 ,  0.  ,  2.6 ],\n",
       "       [ 0.  , -1.5 ,  0.  ,  1.5 ,  0.  ,  0.  ]])"
      ]
     },
     "execution_count": 45,
     "metadata": {},
     "output_type": "execute_result"
    }
   ],
   "source": [
    "data=np.array(df)\n",
    "data"
   ]
  },
  {
   "cell_type": "code",
   "execution_count": 46,
   "id": "630f3a41",
   "metadata": {},
   "outputs": [
    {
     "name": "stdout",
     "output_type": "stream",
     "text": [
      "PLEASE ENTER THE USER FOR WHOM TO PREDICT RATINGS: user5\n",
      "4\n"
     ]
    }
   ],
   "source": [
    "u=input(\"PLEASE ENTER THE USER FOR WHOM TO PREDICT RATINGS: \")\n",
    "u=u.split(\"user\")\n",
    "u=int(u[1])-1\n",
    "print(u)"
   ]
  },
  {
   "cell_type": "code",
   "execution_count": null,
   "id": "7afe703a",
   "metadata": {},
   "outputs": [],
   "source": []
  },
  {
   "cell_type": "code",
   "execution_count": 47,
   "id": "853936a9",
   "metadata": {},
   "outputs": [
    {
     "data": {
      "text/plain": [
       "[array([-0.2,  0. ,  1.8, -2.2,  1.8, -1.2]),\n",
       " array([ 1.4,  0.4, -2.6,  0. ,  1.4, -0.6]),\n",
       " array([ 0.  ,  1.25,  0.25, -1.75,  0.25,  0.  ]),\n",
       " array([-0.4, -1.4, -0.4, -0.4,  0. ,  2.6]),\n",
       " array([ 0. , -1.5,  0. ,  1.5,  0. ,  0. ])]"
      ]
     },
     "execution_count": 47,
     "metadata": {},
     "output_type": "execute_result"
    }
   ],
   "source": [
    "ldata=list(data)\n",
    "ldata"
   ]
  },
  {
   "cell_type": "code",
   "execution_count": 48,
   "id": "46fe5848",
   "metadata": {},
   "outputs": [
    {
     "data": {
      "text/plain": [
       "array([ 0. , -1.5,  0. ,  1.5,  0. ,  0. ])"
      ]
     },
     "execution_count": 48,
     "metadata": {},
     "output_type": "execute_result"
    }
   ],
   "source": [
    "userdata=np.array(ldata.pop(u))\n",
    "userdata"
   ]
  },
  {
   "cell_type": "code",
   "execution_count": 49,
   "id": "8fab6da4",
   "metadata": {},
   "outputs": [
    {
     "data": {
      "text/plain": [
       "array([[-0.2 ,  0.  ,  1.8 , -2.2 ,  1.8 , -1.2 ],\n",
       "       [ 1.4 ,  0.4 , -2.6 ,  0.  ,  1.4 , -0.6 ],\n",
       "       [ 0.  ,  1.25,  0.25, -1.75,  0.25,  0.  ],\n",
       "       [-0.4 , -1.4 , -0.4 , -0.4 ,  0.  ,  2.6 ]])"
      ]
     },
     "execution_count": 49,
     "metadata": {},
     "output_type": "execute_result"
    }
   ],
   "source": [
    "data=np.array(ldata)\n",
    "data"
   ]
  },
  {
   "cell_type": "code",
   "execution_count": 50,
   "id": "bfe6b56f",
   "metadata": {},
   "outputs": [],
   "source": [
    "from numpy.linalg import norm\n",
    "\n",
    "def cosine(a,b):\n",
    "    cos=np.dot(a,b)/(norm(a)*norm(b))\n",
    "    return cos"
   ]
  },
  {
   "cell_type": "code",
   "execution_count": 51,
   "id": "e50ac2ad",
   "metadata": {},
   "outputs": [
    {
     "name": "stdout",
     "output_type": "stream",
     "text": [
      "[-0.4348131782731522, -0.08451542547285165, -0.9733285267845753, 0.2331262020600784]\n",
      "[0, 1, 2, 3]\n"
     ]
    }
   ],
   "source": [
    "simi=[]\n",
    "idx=[]\n",
    "m=0\n",
    "for j in data:\n",
    "    s=cosine(userdata,j)\n",
    "    simi.append(s)\n",
    "    idx.append(m)\n",
    "    m+=1\n",
    "print(simi)\n",
    "print(idx)"
   ]
  },
  {
   "cell_type": "code",
   "execution_count": 65,
   "id": "45aa5772",
   "metadata": {},
   "outputs": [
    {
     "data": {
      "text/plain": [
       "2"
      ]
     },
     "execution_count": 65,
     "metadata": {},
     "output_type": "execute_result"
    }
   ],
   "source": [
    "m"
   ]
  },
  {
   "cell_type": "code",
   "execution_count": 52,
   "id": "a01770c8",
   "metadata": {},
   "outputs": [
    {
     "name": "stdout",
     "output_type": "stream",
     "text": [
      "[0.2331262020600784, -0.08451542547285165, -0.4348131782731522, -0.9733285267845753]\n",
      "[3, 1, 0, 2]\n"
     ]
    }
   ],
   "source": [
    "for j in range(len(simi)):\n",
    "    for m in range(len(simi)-1):\n",
    "        if simi[m]<=simi[j]:\n",
    "            t=simi[m]\n",
    "            simi[m]=simi[j]\n",
    "            simi[j]=t\n",
    "            \n",
    "            t=idx[m]\n",
    "            idx[m]=idx[j]\n",
    "            idx[j]=t\n",
    "print(simi)\n",
    "print(idx)\n",
    "            \n",
    "            \n",
    "            "
   ]
  },
  {
   "cell_type": "code",
   "execution_count": 53,
   "id": "cf17d609",
   "metadata": {},
   "outputs": [
    {
     "name": "stdout",
     "output_type": "stream",
     "text": [
      "ENTER THE VALUE OF N: 3\n"
     ]
    },
    {
     "data": {
      "text/plain": [
       "3"
      ]
     },
     "execution_count": 53,
     "metadata": {},
     "output_type": "execute_result"
    }
   ],
   "source": [
    "n=int(input('ENTER THE VALUE OF N: '))\n",
    "n"
   ]
  },
  {
   "cell_type": "code",
   "execution_count": 54,
   "id": "eadcbe31",
   "metadata": {},
   "outputs": [
    {
     "name": "stdout",
     "output_type": "stream",
     "text": [
      "[3, 1, 0]\n"
     ]
    }
   ],
   "source": [
    "idx=idx[:n]\n",
    "print(idx)"
   ]
  },
  {
   "cell_type": "code",
   "execution_count": 55,
   "id": "0759d3c0",
   "metadata": {},
   "outputs": [
    {
     "name": "stdout",
     "output_type": "stream",
     "text": [
      "[0.2331262020600784, -0.08451542547285165, -0.4348131782731522]\n"
     ]
    }
   ],
   "source": [
    "simi=simi[:n]\n",
    "print(simi)"
   ]
  },
  {
   "cell_type": "code",
   "execution_count": 56,
   "id": "73c64212",
   "metadata": {},
   "outputs": [
    {
     "name": "stdout",
     "output_type": "stream",
     "text": [
      "DATA:\n",
      "[[-0.4 -1.4 -0.4 -0.4  0.   2.6]\n",
      " [ 1.4  0.4 -2.6  0.   1.4 -0.6]\n",
      " [-0.2  0.   1.8 -2.2  1.8 -1.2]]\n",
      "USERDATA\n",
      "[ 0.  -1.5  0.   1.5  0.   0. ]\n"
     ]
    }
   ],
   "source": [
    "predata=data[idx]\n",
    "print('DATA:')\n",
    "print(predata)\n",
    "print('USERDATA')\n",
    "print(userdata)"
   ]
  },
  {
   "cell_type": "code",
   "execution_count": 57,
   "id": "a087dd70",
   "metadata": {},
   "outputs": [
    {
     "data": {
      "text/plain": [
       "[0.2331262020600784, -0.08451542547285165, -0.4348131782731522]"
      ]
     },
     "execution_count": 57,
     "metadata": {},
     "output_type": "execute_result"
    }
   ],
   "source": [
    "predindex=[]\n",
    "simi"
   ]
  },
  {
   "cell_type": "code",
   "execution_count": 58,
   "id": "eaf9e3c0",
   "metadata": {},
   "outputs": [
    {
     "data": {
      "text/plain": [
       "array([ 0.43538922, -1.5       ,  2.29269248,  1.5       ,  3.14807043,\n",
       "       -4.11811078])"
      ]
     },
     "execution_count": 58,
     "metadata": {},
     "output_type": "execute_result"
    }
   ],
   "source": [
    "for j in range(len(userdata)):\n",
    "    if userdata[j]==0:\n",
    "        predindex.append(j)\n",
    "        num=0\n",
    "        den=0\n",
    "        for k in range(len(predata)):\n",
    "            num=num+simi[k]*predata[k][j]\n",
    "            den=den+simi[k]\n",
    "        userdata[j]=num/den\n",
    "userdata\n",
    "            \n",
    "            \n"
   ]
  },
  {
   "cell_type": "code",
   "execution_count": 59,
   "id": "df2b6062",
   "metadata": {},
   "outputs": [
    {
     "data": {
      "text/plain": [
       "[0, 2, 4, 5]"
      ]
     },
     "execution_count": 59,
     "metadata": {},
     "output_type": "execute_result"
    }
   ],
   "source": [
    "predindex"
   ]
  },
  {
   "cell_type": "code",
   "execution_count": 61,
   "id": "be7d8d3e",
   "metadata": {},
   "outputs": [],
   "source": [
    "p=userdata[predindex]"
   ]
  },
  {
   "cell_type": "code",
   "execution_count": 62,
   "id": "efa45b53",
   "metadata": {},
   "outputs": [
    {
     "data": {
      "text/plain": [
       "array([ 0.43538922,  2.29269248,  3.14807043, -4.11811078])"
      ]
     },
     "execution_count": 62,
     "metadata": {},
     "output_type": "execute_result"
    }
   ],
   "source": [
    "p"
   ]
  },
  {
   "cell_type": "code",
   "execution_count": 64,
   "id": "1c8ed346",
   "metadata": {},
   "outputs": [
    {
     "name": "stdout",
     "output_type": "stream",
     "text": [
      "Enter the value of K for recommendation: 3\n"
     ]
    }
   ],
   "source": [
    "k=int(input('Enter the value of K for recommendation: '))"
   ]
  },
  {
   "cell_type": "code",
   "execution_count": 67,
   "id": "3946d712",
   "metadata": {},
   "outputs": [],
   "source": [
    "idx1=predindex"
   ]
  },
  {
   "cell_type": "code",
   "execution_count": 68,
   "id": "f470805b",
   "metadata": {},
   "outputs": [
    {
     "name": "stdout",
     "output_type": "stream",
     "text": [
      "[ 3.14807043  2.29269248  0.43538922 -4.11811078]\n",
      "[4, 2, 0, 5]\n"
     ]
    }
   ],
   "source": [
    "for j in range(len(p)):\n",
    "    for m in range(len(p)-1):\n",
    "        if p[m]<=p[j]:\n",
    "            t=p[m]\n",
    "            p[m]=p[j]\n",
    "            p[j]=t\n",
    "            \n",
    "            t=idx1[m]\n",
    "            idx1[m]=idx1[j]\n",
    "            idx1[j]=t\n",
    "print(p)\n",
    "print(idx1)\n",
    "            \n",
    "            \n",
    "            "
   ]
  },
  {
   "cell_type": "code",
   "execution_count": 71,
   "id": "635bcadb",
   "metadata": {},
   "outputs": [
    {
     "name": "stdout",
     "output_type": "stream",
     "text": [
      "The movie recommended:  5\n",
      "The movie recommended:  3\n",
      "The movie recommended:  1\n"
     ]
    }
   ],
   "source": [
    "for m in range(k):\n",
    "    print(\"The movie recommended: \",str(idx1[m]+1))\n",
    "    "
   ]
  },
  {
   "cell_type": "markdown",
   "id": "01e86e28",
   "metadata": {},
   "source": [
    "ITEM-ITEM COLLABORATIVE FILTERING"
   ]
  },
  {
   "cell_type": "code",
   "execution_count": 72,
   "id": "c5ed826f",
   "metadata": {},
   "outputs": [
    {
     "data": {
      "text/html": [
       "<div>\n",
       "<style scoped>\n",
       "    .dataframe tbody tr th:only-of-type {\n",
       "        vertical-align: middle;\n",
       "    }\n",
       "\n",
       "    .dataframe tbody tr th {\n",
       "        vertical-align: top;\n",
       "    }\n",
       "\n",
       "    .dataframe thead th {\n",
       "        text-align: right;\n",
       "    }\n",
       "</style>\n",
       "<table border=\"1\" class=\"dataframe\">\n",
       "  <thead>\n",
       "    <tr style=\"text-align: right;\">\n",
       "      <th></th>\n",
       "      <th>item1</th>\n",
       "      <th>item2</th>\n",
       "      <th>item3</th>\n",
       "      <th>item4</th>\n",
       "      <th>item5</th>\n",
       "      <th>item6</th>\n",
       "    </tr>\n",
       "  </thead>\n",
       "  <tbody>\n",
       "    <tr>\n",
       "      <th>user1</th>\n",
       "      <td>-0.2</td>\n",
       "      <td>0.00</td>\n",
       "      <td>1.80</td>\n",
       "      <td>-2.20</td>\n",
       "      <td>1.80</td>\n",
       "      <td>-1.2</td>\n",
       "    </tr>\n",
       "    <tr>\n",
       "      <th>user2</th>\n",
       "      <td>1.4</td>\n",
       "      <td>0.40</td>\n",
       "      <td>-2.60</td>\n",
       "      <td>0.00</td>\n",
       "      <td>1.40</td>\n",
       "      <td>-0.6</td>\n",
       "    </tr>\n",
       "    <tr>\n",
       "      <th>user3</th>\n",
       "      <td>0.0</td>\n",
       "      <td>1.25</td>\n",
       "      <td>0.25</td>\n",
       "      <td>-1.75</td>\n",
       "      <td>0.25</td>\n",
       "      <td>0.0</td>\n",
       "    </tr>\n",
       "    <tr>\n",
       "      <th>user4</th>\n",
       "      <td>-0.4</td>\n",
       "      <td>-1.40</td>\n",
       "      <td>-0.40</td>\n",
       "      <td>-0.40</td>\n",
       "      <td>0.00</td>\n",
       "      <td>2.6</td>\n",
       "    </tr>\n",
       "    <tr>\n",
       "      <th>user5</th>\n",
       "      <td>0.0</td>\n",
       "      <td>-1.50</td>\n",
       "      <td>0.00</td>\n",
       "      <td>1.50</td>\n",
       "      <td>0.00</td>\n",
       "      <td>0.0</td>\n",
       "    </tr>\n",
       "  </tbody>\n",
       "</table>\n",
       "</div>"
      ],
      "text/plain": [
       "       item1  item2  item3  item4  item5  item6\n",
       "user1   -0.2   0.00   1.80  -2.20   1.80   -1.2\n",
       "user2    1.4   0.40  -2.60   0.00   1.40   -0.6\n",
       "user3    0.0   1.25   0.25  -1.75   0.25    0.0\n",
       "user4   -0.4  -1.40  -0.40  -0.40   0.00    2.6\n",
       "user5    0.0  -1.50   0.00   1.50   0.00    0.0"
      ]
     },
     "execution_count": 72,
     "metadata": {},
     "output_type": "execute_result"
    }
   ],
   "source": [
    "df"
   ]
  },
  {
   "cell_type": "code",
   "execution_count": 73,
   "id": "28f9efb5",
   "metadata": {},
   "outputs": [
    {
     "data": {
      "text/plain": [
       "array([[-0.2 ,  0.  ,  1.8 , -2.2 ,  1.8 , -1.2 ],\n",
       "       [ 1.4 ,  0.4 , -2.6 ,  0.  ,  1.4 , -0.6 ],\n",
       "       [ 0.  ,  1.25,  0.25, -1.75,  0.25,  0.  ],\n",
       "       [-0.4 , -1.4 , -0.4 , -0.4 ,  0.  ,  2.6 ],\n",
       "       [ 0.  , -1.5 ,  0.  ,  1.5 ,  0.  ,  0.  ]])"
      ]
     },
     "execution_count": 73,
     "metadata": {},
     "output_type": "execute_result"
    }
   ],
   "source": [
    "n=np.array(df)\n",
    "n"
   ]
  },
  {
   "cell_type": "code",
   "execution_count": 74,
   "id": "b02c837c",
   "metadata": {},
   "outputs": [
    {
     "data": {
      "text/plain": [
       "array([[-0.2 ,  1.4 ,  0.  , -0.4 ,  0.  ],\n",
       "       [ 0.  ,  0.4 ,  1.25, -1.4 , -1.5 ],\n",
       "       [ 1.8 , -2.6 ,  0.25, -0.4 ,  0.  ],\n",
       "       [-2.2 ,  0.  , -1.75, -0.4 ,  1.5 ],\n",
       "       [ 1.8 ,  1.4 ,  0.25,  0.  ,  0.  ],\n",
       "       [-1.2 , -0.6 ,  0.  ,  2.6 ,  0.  ]])"
      ]
     },
     "execution_count": 74,
     "metadata": {},
     "output_type": "execute_result"
    }
   ],
   "source": [
    "n=n.T\n",
    "n"
   ]
  },
  {
   "cell_type": "code",
   "execution_count": 81,
   "id": "01d051df",
   "metadata": {},
   "outputs": [],
   "source": [
    "data={'item1':[3,5,np.nan,2,np.nan],'item2':[np.nan,4,5,1,2],'item3':[5,1,4,2,np.nan],'item4':[1,np.nan,2,2,5],'item5':[5,5,4,np.nan,np.nan],'item6':[2,3,np.nan,5,np.nan]}\n",
    "df1=pd.DataFrame(data,index=['user1','user2','user3','user4','user5'])\n"
   ]
  },
  {
   "cell_type": "code",
   "execution_count": 82,
   "id": "fe6e98f9",
   "metadata": {},
   "outputs": [
    {
     "data": {
      "text/html": [
       "<div>\n",
       "<style scoped>\n",
       "    .dataframe tbody tr th:only-of-type {\n",
       "        vertical-align: middle;\n",
       "    }\n",
       "\n",
       "    .dataframe tbody tr th {\n",
       "        vertical-align: top;\n",
       "    }\n",
       "\n",
       "    .dataframe thead th {\n",
       "        text-align: right;\n",
       "    }\n",
       "</style>\n",
       "<table border=\"1\" class=\"dataframe\">\n",
       "  <thead>\n",
       "    <tr style=\"text-align: right;\">\n",
       "      <th></th>\n",
       "      <th>item1</th>\n",
       "      <th>item2</th>\n",
       "      <th>item3</th>\n",
       "      <th>item4</th>\n",
       "      <th>item5</th>\n",
       "      <th>item6</th>\n",
       "    </tr>\n",
       "  </thead>\n",
       "  <tbody>\n",
       "    <tr>\n",
       "      <th>user1</th>\n",
       "      <td>3.0</td>\n",
       "      <td>NaN</td>\n",
       "      <td>5.0</td>\n",
       "      <td>1.0</td>\n",
       "      <td>5.0</td>\n",
       "      <td>2.0</td>\n",
       "    </tr>\n",
       "    <tr>\n",
       "      <th>user2</th>\n",
       "      <td>5.0</td>\n",
       "      <td>4.0</td>\n",
       "      <td>1.0</td>\n",
       "      <td>NaN</td>\n",
       "      <td>5.0</td>\n",
       "      <td>3.0</td>\n",
       "    </tr>\n",
       "    <tr>\n",
       "      <th>user3</th>\n",
       "      <td>NaN</td>\n",
       "      <td>5.0</td>\n",
       "      <td>4.0</td>\n",
       "      <td>2.0</td>\n",
       "      <td>4.0</td>\n",
       "      <td>NaN</td>\n",
       "    </tr>\n",
       "    <tr>\n",
       "      <th>user4</th>\n",
       "      <td>2.0</td>\n",
       "      <td>1.0</td>\n",
       "      <td>2.0</td>\n",
       "      <td>2.0</td>\n",
       "      <td>NaN</td>\n",
       "      <td>5.0</td>\n",
       "    </tr>\n",
       "    <tr>\n",
       "      <th>user5</th>\n",
       "      <td>NaN</td>\n",
       "      <td>2.0</td>\n",
       "      <td>NaN</td>\n",
       "      <td>5.0</td>\n",
       "      <td>NaN</td>\n",
       "      <td>NaN</td>\n",
       "    </tr>\n",
       "  </tbody>\n",
       "</table>\n",
       "</div>"
      ],
      "text/plain": [
       "       item1  item2  item3  item4  item5  item6\n",
       "user1    3.0    NaN    5.0    1.0    5.0    2.0\n",
       "user2    5.0    4.0    1.0    NaN    5.0    3.0\n",
       "user3    NaN    5.0    4.0    2.0    4.0    NaN\n",
       "user4    2.0    1.0    2.0    2.0    NaN    5.0\n",
       "user5    NaN    2.0    NaN    5.0    NaN    NaN"
      ]
     },
     "execution_count": 82,
     "metadata": {},
     "output_type": "execute_result"
    }
   ],
   "source": [
    "df1"
   ]
  },
  {
   "cell_type": "code",
   "execution_count": 83,
   "id": "180fb299",
   "metadata": {},
   "outputs": [
    {
     "data": {
      "text/plain": [
       "array([[ 3., nan,  5.,  1.,  5.,  2.],\n",
       "       [ 5.,  4.,  1., nan,  5.,  3.],\n",
       "       [nan,  5.,  4.,  2.,  4., nan],\n",
       "       [ 2.,  1.,  2.,  2., nan,  5.],\n",
       "       [nan,  2., nan,  5., nan, nan]])"
      ]
     },
     "execution_count": 83,
     "metadata": {},
     "output_type": "execute_result"
    }
   ],
   "source": [
    "n=np.array(df1)\n",
    "n"
   ]
  },
  {
   "cell_type": "code",
   "execution_count": 84,
   "id": "b03dba05",
   "metadata": {},
   "outputs": [],
   "source": [
    "n=n.T"
   ]
  },
  {
   "cell_type": "code",
   "execution_count": 85,
   "id": "7a9dd752",
   "metadata": {},
   "outputs": [
    {
     "data": {
      "text/plain": [
       "array([[ 3.,  5., nan,  2., nan],\n",
       "       [nan,  4.,  5.,  1.,  2.],\n",
       "       [ 5.,  1.,  4.,  2., nan],\n",
       "       [ 1., nan,  2.,  2.,  5.],\n",
       "       [ 5.,  5.,  4., nan, nan],\n",
       "       [ 2.,  3., nan,  5., nan]])"
      ]
     },
     "execution_count": 85,
     "metadata": {},
     "output_type": "execute_result"
    }
   ],
   "source": [
    "n"
   ]
  },
  {
   "cell_type": "code",
   "execution_count": 86,
   "id": "81f79b07",
   "metadata": {},
   "outputs": [
    {
     "data": {
      "text/html": [
       "<div>\n",
       "<style scoped>\n",
       "    .dataframe tbody tr th:only-of-type {\n",
       "        vertical-align: middle;\n",
       "    }\n",
       "\n",
       "    .dataframe tbody tr th {\n",
       "        vertical-align: top;\n",
       "    }\n",
       "\n",
       "    .dataframe thead th {\n",
       "        text-align: right;\n",
       "    }\n",
       "</style>\n",
       "<table border=\"1\" class=\"dataframe\">\n",
       "  <thead>\n",
       "    <tr style=\"text-align: right;\">\n",
       "      <th></th>\n",
       "      <th>user1</th>\n",
       "      <th>user2</th>\n",
       "      <th>user3</th>\n",
       "      <th>user4</th>\n",
       "      <th>user5</th>\n",
       "    </tr>\n",
       "  </thead>\n",
       "  <tbody>\n",
       "    <tr>\n",
       "      <th>movie1</th>\n",
       "      <td>3.0</td>\n",
       "      <td>5.0</td>\n",
       "      <td>NaN</td>\n",
       "      <td>2.0</td>\n",
       "      <td>NaN</td>\n",
       "    </tr>\n",
       "    <tr>\n",
       "      <th>movie2</th>\n",
       "      <td>NaN</td>\n",
       "      <td>4.0</td>\n",
       "      <td>5.0</td>\n",
       "      <td>1.0</td>\n",
       "      <td>2.0</td>\n",
       "    </tr>\n",
       "    <tr>\n",
       "      <th>movie3</th>\n",
       "      <td>5.0</td>\n",
       "      <td>1.0</td>\n",
       "      <td>4.0</td>\n",
       "      <td>2.0</td>\n",
       "      <td>NaN</td>\n",
       "    </tr>\n",
       "    <tr>\n",
       "      <th>movie4</th>\n",
       "      <td>1.0</td>\n",
       "      <td>NaN</td>\n",
       "      <td>2.0</td>\n",
       "      <td>2.0</td>\n",
       "      <td>5.0</td>\n",
       "    </tr>\n",
       "    <tr>\n",
       "      <th>movie5</th>\n",
       "      <td>5.0</td>\n",
       "      <td>5.0</td>\n",
       "      <td>4.0</td>\n",
       "      <td>NaN</td>\n",
       "      <td>NaN</td>\n",
       "    </tr>\n",
       "    <tr>\n",
       "      <th>movie6</th>\n",
       "      <td>2.0</td>\n",
       "      <td>3.0</td>\n",
       "      <td>NaN</td>\n",
       "      <td>5.0</td>\n",
       "      <td>NaN</td>\n",
       "    </tr>\n",
       "  </tbody>\n",
       "</table>\n",
       "</div>"
      ],
      "text/plain": [
       "        user1  user2  user3  user4  user5\n",
       "movie1    3.0    5.0    NaN    2.0    NaN\n",
       "movie2    NaN    4.0    5.0    1.0    2.0\n",
       "movie3    5.0    1.0    4.0    2.0    NaN\n",
       "movie4    1.0    NaN    2.0    2.0    5.0\n",
       "movie5    5.0    5.0    4.0    NaN    NaN\n",
       "movie6    2.0    3.0    NaN    5.0    NaN"
      ]
     },
     "execution_count": 86,
     "metadata": {},
     "output_type": "execute_result"
    }
   ],
   "source": [
    "df1=pd.DataFrame(n,index=['movie1','movie2','movie3','movie4','movie5','movie6'],columns=['user1','user2','user3','user4','user5'])\n",
    "df1"
   ]
  },
  {
   "cell_type": "code",
   "execution_count": 87,
   "id": "7a71e1cc",
   "metadata": {},
   "outputs": [
    {
     "name": "stdout",
     "output_type": "stream",
     "text": [
      "[[3.33333333]\n",
      " [3.        ]\n",
      " [3.        ]\n",
      " [2.5       ]\n",
      " [4.66666667]\n",
      " [3.33333333]]\n"
     ]
    }
   ],
   "source": [
    "rowmeans=(np.nanmean(df1,axis=1,keepdims=True))\n",
    "print(rowmeans)"
   ]
  },
  {
   "cell_type": "code",
   "execution_count": 88,
   "id": "6be5f44a",
   "metadata": {},
   "outputs": [
    {
     "data": {
      "text/plain": [
       "array([[ 3.,  5., nan,  2., nan],\n",
       "       [nan,  4.,  5.,  1.,  2.],\n",
       "       [ 5.,  1.,  4.,  2., nan],\n",
       "       [ 1., nan,  2.,  2.,  5.],\n",
       "       [ 5.,  5.,  4., nan, nan],\n",
       "       [ 2.,  3., nan,  5., nan]])"
      ]
     },
     "execution_count": 88,
     "metadata": {},
     "output_type": "execute_result"
    }
   ],
   "source": [
    "n"
   ]
  },
  {
   "cell_type": "code",
   "execution_count": 89,
   "id": "b2b1f9c3",
   "metadata": {},
   "outputs": [],
   "source": [
    "n=n-rowmeans"
   ]
  },
  {
   "cell_type": "code",
   "execution_count": 90,
   "id": "b2d59428",
   "metadata": {},
   "outputs": [
    {
     "data": {
      "text/plain": [
       "array([[-0.33333333,  1.66666667,         nan, -1.33333333,         nan],\n",
       "       [        nan,  1.        ,  2.        , -2.        , -1.        ],\n",
       "       [ 2.        , -2.        ,  1.        , -1.        ,         nan],\n",
       "       [-1.5       ,         nan, -0.5       , -0.5       ,  2.5       ],\n",
       "       [ 0.33333333,  0.33333333, -0.66666667,         nan,         nan],\n",
       "       [-1.33333333, -0.33333333,         nan,  1.66666667,         nan]])"
      ]
     },
     "execution_count": 90,
     "metadata": {},
     "output_type": "execute_result"
    }
   ],
   "source": [
    "n"
   ]
  },
  {
   "cell_type": "code",
   "execution_count": 91,
   "id": "380f3a9c",
   "metadata": {},
   "outputs": [
    {
     "data": {
      "text/html": [
       "<div>\n",
       "<style scoped>\n",
       "    .dataframe tbody tr th:only-of-type {\n",
       "        vertical-align: middle;\n",
       "    }\n",
       "\n",
       "    .dataframe tbody tr th {\n",
       "        vertical-align: top;\n",
       "    }\n",
       "\n",
       "    .dataframe thead th {\n",
       "        text-align: right;\n",
       "    }\n",
       "</style>\n",
       "<table border=\"1\" class=\"dataframe\">\n",
       "  <thead>\n",
       "    <tr style=\"text-align: right;\">\n",
       "      <th></th>\n",
       "      <th>user1</th>\n",
       "      <th>user2</th>\n",
       "      <th>user3</th>\n",
       "      <th>user4</th>\n",
       "      <th>user5</th>\n",
       "    </tr>\n",
       "  </thead>\n",
       "  <tbody>\n",
       "    <tr>\n",
       "      <th>movie1</th>\n",
       "      <td>-0.333333</td>\n",
       "      <td>1.666667</td>\n",
       "      <td>NaN</td>\n",
       "      <td>-1.333333</td>\n",
       "      <td>NaN</td>\n",
       "    </tr>\n",
       "    <tr>\n",
       "      <th>movie2</th>\n",
       "      <td>NaN</td>\n",
       "      <td>1.000000</td>\n",
       "      <td>2.000000</td>\n",
       "      <td>-2.000000</td>\n",
       "      <td>-1.0</td>\n",
       "    </tr>\n",
       "    <tr>\n",
       "      <th>movie3</th>\n",
       "      <td>2.000000</td>\n",
       "      <td>-2.000000</td>\n",
       "      <td>1.000000</td>\n",
       "      <td>-1.000000</td>\n",
       "      <td>NaN</td>\n",
       "    </tr>\n",
       "    <tr>\n",
       "      <th>movie4</th>\n",
       "      <td>-1.500000</td>\n",
       "      <td>NaN</td>\n",
       "      <td>-0.500000</td>\n",
       "      <td>-0.500000</td>\n",
       "      <td>2.5</td>\n",
       "    </tr>\n",
       "    <tr>\n",
       "      <th>movie5</th>\n",
       "      <td>0.333333</td>\n",
       "      <td>0.333333</td>\n",
       "      <td>-0.666667</td>\n",
       "      <td>NaN</td>\n",
       "      <td>NaN</td>\n",
       "    </tr>\n",
       "    <tr>\n",
       "      <th>movie6</th>\n",
       "      <td>-1.333333</td>\n",
       "      <td>-0.333333</td>\n",
       "      <td>NaN</td>\n",
       "      <td>1.666667</td>\n",
       "      <td>NaN</td>\n",
       "    </tr>\n",
       "  </tbody>\n",
       "</table>\n",
       "</div>"
      ],
      "text/plain": [
       "           user1     user2     user3     user4  user5\n",
       "movie1 -0.333333  1.666667       NaN -1.333333    NaN\n",
       "movie2       NaN  1.000000  2.000000 -2.000000   -1.0\n",
       "movie3  2.000000 -2.000000  1.000000 -1.000000    NaN\n",
       "movie4 -1.500000       NaN -0.500000 -0.500000    2.5\n",
       "movie5  0.333333  0.333333 -0.666667       NaN    NaN\n",
       "movie6 -1.333333 -0.333333       NaN  1.666667    NaN"
      ]
     },
     "execution_count": 91,
     "metadata": {},
     "output_type": "execute_result"
    }
   ],
   "source": [
    "df1=pd.DataFrame(n,index=['movie1','movie2','movie3','movie4','movie5','movie6'],columns=['user1','user2','user3','user4','user5'])\n",
    "df1"
   ]
  },
  {
   "cell_type": "code",
   "execution_count": 94,
   "id": "d1b7fa3d",
   "metadata": {},
   "outputs": [
    {
     "data": {
      "text/html": [
       "<div>\n",
       "<style scoped>\n",
       "    .dataframe tbody tr th:only-of-type {\n",
       "        vertical-align: middle;\n",
       "    }\n",
       "\n",
       "    .dataframe tbody tr th {\n",
       "        vertical-align: top;\n",
       "    }\n",
       "\n",
       "    .dataframe thead th {\n",
       "        text-align: right;\n",
       "    }\n",
       "</style>\n",
       "<table border=\"1\" class=\"dataframe\">\n",
       "  <thead>\n",
       "    <tr style=\"text-align: right;\">\n",
       "      <th></th>\n",
       "      <th>user1</th>\n",
       "      <th>user2</th>\n",
       "      <th>user3</th>\n",
       "      <th>user4</th>\n",
       "      <th>user5</th>\n",
       "    </tr>\n",
       "  </thead>\n",
       "  <tbody>\n",
       "    <tr>\n",
       "      <th>movie1</th>\n",
       "      <td>-0.333333</td>\n",
       "      <td>1.666667</td>\n",
       "      <td>0.000000</td>\n",
       "      <td>-1.333333</td>\n",
       "      <td>0.0</td>\n",
       "    </tr>\n",
       "    <tr>\n",
       "      <th>movie2</th>\n",
       "      <td>0.000000</td>\n",
       "      <td>1.000000</td>\n",
       "      <td>2.000000</td>\n",
       "      <td>-2.000000</td>\n",
       "      <td>-1.0</td>\n",
       "    </tr>\n",
       "    <tr>\n",
       "      <th>movie3</th>\n",
       "      <td>2.000000</td>\n",
       "      <td>-2.000000</td>\n",
       "      <td>1.000000</td>\n",
       "      <td>-1.000000</td>\n",
       "      <td>0.0</td>\n",
       "    </tr>\n",
       "    <tr>\n",
       "      <th>movie4</th>\n",
       "      <td>-1.500000</td>\n",
       "      <td>0.000000</td>\n",
       "      <td>-0.500000</td>\n",
       "      <td>-0.500000</td>\n",
       "      <td>2.5</td>\n",
       "    </tr>\n",
       "    <tr>\n",
       "      <th>movie5</th>\n",
       "      <td>0.333333</td>\n",
       "      <td>0.333333</td>\n",
       "      <td>-0.666667</td>\n",
       "      <td>0.000000</td>\n",
       "      <td>0.0</td>\n",
       "    </tr>\n",
       "    <tr>\n",
       "      <th>movie6</th>\n",
       "      <td>-1.333333</td>\n",
       "      <td>-0.333333</td>\n",
       "      <td>0.000000</td>\n",
       "      <td>1.666667</td>\n",
       "      <td>0.0</td>\n",
       "    </tr>\n",
       "  </tbody>\n",
       "</table>\n",
       "</div>"
      ],
      "text/plain": [
       "           user1     user2     user3     user4  user5\n",
       "movie1 -0.333333  1.666667  0.000000 -1.333333    0.0\n",
       "movie2  0.000000  1.000000  2.000000 -2.000000   -1.0\n",
       "movie3  2.000000 -2.000000  1.000000 -1.000000    0.0\n",
       "movie4 -1.500000  0.000000 -0.500000 -0.500000    2.5\n",
       "movie5  0.333333  0.333333 -0.666667  0.000000    0.0\n",
       "movie6 -1.333333 -0.333333  0.000000  1.666667    0.0"
      ]
     },
     "execution_count": 94,
     "metadata": {},
     "output_type": "execute_result"
    }
   ],
   "source": [
    "df1=df1.replace(np.nan,0)\n",
    "df1"
   ]
  },
  {
   "cell_type": "code",
   "execution_count": 96,
   "id": "0180b50c",
   "metadata": {},
   "outputs": [
    {
     "data": {
      "text/plain": [
       "array([[-0.33333333,  1.66666667,  0.        , -1.33333333,  0.        ],\n",
       "       [ 0.        ,  1.        ,  2.        , -2.        , -1.        ],\n",
       "       [ 2.        , -2.        ,  1.        , -1.        ,  0.        ],\n",
       "       [-1.5       ,  0.        , -0.5       , -0.5       ,  2.5       ],\n",
       "       [ 0.33333333,  0.33333333, -0.66666667,  0.        ,  0.        ],\n",
       "       [-1.33333333, -0.33333333,  0.        ,  1.66666667,  0.        ]])"
      ]
     },
     "execution_count": 96,
     "metadata": {},
     "output_type": "execute_result"
    }
   ],
   "source": [
    "data=np.array(df1)\n",
    "data"
   ]
  },
  {
   "cell_type": "code",
   "execution_count": 98,
   "id": "5a4e93b4",
   "metadata": {},
   "outputs": [
    {
     "name": "stdout",
     "output_type": "stream",
     "text": [
      "PLEASE ENTER THE USER FOR WHOM TO PREDICT RATINGS: movie6\n",
      "5\n"
     ]
    }
   ],
   "source": [
    "u=input(\"PLEASE ENTER THE USER FOR WHOM TO PREDICT RATINGS: \")\n",
    "u=u.split(\"movie\")\n",
    "u=int(u[1])-1\n",
    "print(u)"
   ]
  },
  {
   "cell_type": "code",
   "execution_count": 99,
   "id": "5c997820",
   "metadata": {},
   "outputs": [
    {
     "data": {
      "text/plain": [
       "[array([-0.33333333,  1.66666667,  0.        , -1.33333333,  0.        ]),\n",
       " array([ 0.,  1.,  2., -2., -1.]),\n",
       " array([ 2., -2.,  1., -1.,  0.]),\n",
       " array([-1.5,  0. , -0.5, -0.5,  2.5]),\n",
       " array([ 0.33333333,  0.33333333, -0.66666667,  0.        ,  0.        ]),\n",
       " array([-1.33333333, -0.33333333,  0.        ,  1.66666667,  0.        ])]"
      ]
     },
     "execution_count": 99,
     "metadata": {},
     "output_type": "execute_result"
    }
   ],
   "source": [
    "ldata=list(data)\n",
    "ldata"
   ]
  },
  {
   "cell_type": "code",
   "execution_count": 100,
   "id": "f03f52d3",
   "metadata": {},
   "outputs": [
    {
     "data": {
      "text/plain": [
       "array([-1.33333333, -0.33333333,  0.        ,  1.66666667,  0.        ])"
      ]
     },
     "execution_count": 100,
     "metadata": {},
     "output_type": "execute_result"
    }
   ],
   "source": [
    "userdata=np.array(ldata.pop(u))\n",
    "userdata"
   ]
  },
  {
   "cell_type": "code",
   "execution_count": 101,
   "id": "e4ac2b78",
   "metadata": {},
   "outputs": [
    {
     "data": {
      "text/plain": [
       "array([[-0.33333333,  1.66666667,  0.        , -1.33333333,  0.        ],\n",
       "       [ 0.        ,  1.        ,  2.        , -2.        , -1.        ],\n",
       "       [ 2.        , -2.        ,  1.        , -1.        ,  0.        ],\n",
       "       [-1.5       ,  0.        , -0.5       , -0.5       ,  2.5       ],\n",
       "       [ 0.33333333,  0.33333333, -0.66666667,  0.        ,  0.        ]])"
      ]
     },
     "execution_count": 101,
     "metadata": {},
     "output_type": "execute_result"
    }
   ],
   "source": [
    "data=np.array(ldata)\n",
    "data"
   ]
  },
  {
   "cell_type": "code",
   "execution_count": 106,
   "id": "91c73f94",
   "metadata": {},
   "outputs": [
    {
     "name": "stdout",
     "output_type": "stream",
     "text": [
      "[-0.4999999999999999, -0.5367450401216932, -0.5367450401216932, 0.1800205749557739, -0.31497039417435574]\n",
      "[0, 1, 2, 3, 4]\n"
     ]
    }
   ],
   "source": [
    "simi=[]\n",
    "idx=[]\n",
    "m=0\n",
    "for j in data:\n",
    "    s=cosine(userdata,j)\n",
    "    simi.append(s)\n",
    "    idx.append(m)\n",
    "    m+=1\n",
    "print(simi)\n",
    "print(idx)"
   ]
  },
  {
   "cell_type": "code",
   "execution_count": 107,
   "id": "22dfc323",
   "metadata": {},
   "outputs": [
    {
     "name": "stdout",
     "output_type": "stream",
     "text": [
      "[0.1800205749557739, -0.31497039417435574, -0.4999999999999999, -0.5367450401216932, -0.5367450401216932]\n",
      "[3, 4, 0, 2, 1]\n"
     ]
    }
   ],
   "source": [
    "for j in range(len(simi)):\n",
    "    for m in range(len(simi)-1):\n",
    "        if simi[m]<=simi[j]:\n",
    "            t=simi[m]\n",
    "            simi[m]=simi[j]\n",
    "            simi[j]=t\n",
    "            \n",
    "            t=idx[m]\n",
    "            idx[m]=idx[j]\n",
    "            idx[j]=t\n",
    "print(simi)\n",
    "print(idx)\n",
    "            \n",
    "            \n",
    "            "
   ]
  },
  {
   "cell_type": "code",
   "execution_count": 108,
   "id": "42481a3d",
   "metadata": {},
   "outputs": [
    {
     "name": "stdout",
     "output_type": "stream",
     "text": [
      "ENTER THE VALUE OF N: 3\n"
     ]
    },
    {
     "data": {
      "text/plain": [
       "3"
      ]
     },
     "execution_count": 108,
     "metadata": {},
     "output_type": "execute_result"
    }
   ],
   "source": [
    "n=int(input('ENTER THE VALUE OF N: '))\n",
    "n"
   ]
  },
  {
   "cell_type": "code",
   "execution_count": 109,
   "id": "ce029ab2",
   "metadata": {},
   "outputs": [
    {
     "name": "stdout",
     "output_type": "stream",
     "text": [
      "[3, 4, 0]\n"
     ]
    }
   ],
   "source": [
    "idx=idx[:n]\n",
    "print(idx)"
   ]
  },
  {
   "cell_type": "code",
   "execution_count": 110,
   "id": "ed154e73",
   "metadata": {},
   "outputs": [
    {
     "name": "stdout",
     "output_type": "stream",
     "text": [
      "[0.1800205749557739, -0.31497039417435574, -0.4999999999999999]\n"
     ]
    }
   ],
   "source": [
    "simi=simi[:n]\n",
    "print(simi)"
   ]
  },
  {
   "cell_type": "code",
   "execution_count": 111,
   "id": "27207542",
   "metadata": {},
   "outputs": [
    {
     "name": "stdout",
     "output_type": "stream",
     "text": [
      "DATA:\n",
      "[[-1.5         0.         -0.5        -0.5         2.5       ]\n",
      " [ 0.33333333  0.33333333 -0.66666667  0.          0.        ]\n",
      " [-0.33333333  1.66666667  0.         -1.33333333  0.        ]]\n",
      "USERDATA\n",
      "[-1.33333333 -0.33333333  0.          1.66666667  0.        ]\n"
     ]
    }
   ],
   "source": [
    "predata=data[idx]\n",
    "print('DATA:')\n",
    "print(predata)\n",
    "print('USERDATA')\n",
    "print(userdata)"
   ]
  },
  {
   "cell_type": "code",
   "execution_count": 112,
   "id": "f07a7109",
   "metadata": {},
   "outputs": [
    {
     "data": {
      "text/plain": [
       "[0.1800205749557739, -0.31497039417435574, -0.4999999999999999]"
      ]
     },
     "execution_count": 112,
     "metadata": {},
     "output_type": "execute_result"
    }
   ],
   "source": [
    "predindex=[]\n",
    "simi"
   ]
  },
  {
   "cell_type": "code",
   "execution_count": 113,
   "id": "6479f1c0",
   "metadata": {},
   "outputs": [
    {
     "data": {
      "text/plain": [
       "array([-1.33333333, -0.33333333, -0.18894403,  1.66666667, -0.70879843])"
      ]
     },
     "execution_count": 113,
     "metadata": {},
     "output_type": "execute_result"
    }
   ],
   "source": [
    "for j in range(len(userdata)):\n",
    "    if userdata[j]==0:\n",
    "        predindex.append(j)\n",
    "        num=0\n",
    "        den=0\n",
    "        for k in range(len(predata)):\n",
    "            num=num+simi[k]*predata[k][j]\n",
    "            den=den+simi[k]\n",
    "        userdata[j]=num/den\n",
    "userdata\n",
    "            \n",
    "            \n"
   ]
  },
  {
   "cell_type": "code",
   "execution_count": 114,
   "id": "7e86029b",
   "metadata": {},
   "outputs": [
    {
     "data": {
      "text/plain": [
       "array([-0.18894403, -0.70879843])"
      ]
     },
     "execution_count": 114,
     "metadata": {},
     "output_type": "execute_result"
    }
   ],
   "source": [
    "p=userdata[predindex]\n",
    "p"
   ]
  },
  {
   "cell_type": "code",
   "execution_count": 115,
   "id": "85680ebf",
   "metadata": {},
   "outputs": [
    {
     "name": "stdout",
     "output_type": "stream",
     "text": [
      "Enter the value of K for recommendation: 2\n"
     ]
    }
   ],
   "source": [
    "k=int(input('Enter the value of K for recommendation: '))"
   ]
  },
  {
   "cell_type": "code",
   "execution_count": 116,
   "id": "ed15c004",
   "metadata": {},
   "outputs": [],
   "source": [
    "idx1=predindex"
   ]
  },
  {
   "cell_type": "code",
   "execution_count": 117,
   "id": "752cf4c0",
   "metadata": {},
   "outputs": [
    {
     "name": "stdout",
     "output_type": "stream",
     "text": [
      "[-0.18894403 -0.70879843]\n",
      "[2, 4]\n"
     ]
    }
   ],
   "source": [
    "for j in range(len(p)):\n",
    "    for m in range(len(p)-1):\n",
    "        if p[m]<=p[j]:\n",
    "            t=p[m]\n",
    "            p[m]=p[j]\n",
    "            p[j]=t\n",
    "            \n",
    "            t=idx1[m]\n",
    "            idx1[m]=idx1[j]\n",
    "            idx1[j]=t\n",
    "print(p)\n",
    "print(idx1)\n",
    "            \n",
    "            \n",
    "            "
   ]
  },
  {
   "cell_type": "code",
   "execution_count": 119,
   "id": "721757b2",
   "metadata": {},
   "outputs": [
    {
     "name": "stdout",
     "output_type": "stream",
     "text": [
      "User who gave rating -0.18894402624235923 : 3\n",
      "User who gave rating -0.7087984337774956 : 5\n"
     ]
    }
   ],
   "source": [
    "for m in range(len(idx1)):\n",
    "    print(\"User who gave rating \"+str(p[m])+\" : \"+str(idx1[m]+1))"
   ]
  },
  {
   "cell_type": "code",
   "execution_count": null,
   "id": "ac798f6d",
   "metadata": {},
   "outputs": [],
   "source": []
  }
 ],
 "metadata": {
  "kernelspec": {
   "display_name": "Python 3 (ipykernel)",
   "language": "python",
   "name": "python3"
  },
  "language_info": {
   "codemirror_mode": {
    "name": "ipython",
    "version": 3
   },
   "file_extension": ".py",
   "mimetype": "text/x-python",
   "name": "python",
   "nbconvert_exporter": "python",
   "pygments_lexer": "ipython3",
   "version": "3.10.1"
  }
 },
 "nbformat": 4,
 "nbformat_minor": 5
}

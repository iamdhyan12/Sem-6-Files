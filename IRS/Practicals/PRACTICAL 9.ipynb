{
 "cells": [
  {
   "cell_type": "code",
   "execution_count": 2,
   "id": "25312ae5",
   "metadata": {},
   "outputs": [],
   "source": [
    "import numpy as np\n",
    "import pandas as pd\n",
    "import random"
   ]
  },
  {
   "cell_type": "code",
   "execution_count": 82,
   "id": "b8e8783a",
   "metadata": {},
   "outputs": [
    {
     "data": {
      "text/html": [
       "<div>\n",
       "<style scoped>\n",
       "    .dataframe tbody tr th:only-of-type {\n",
       "        vertical-align: middle;\n",
       "    }\n",
       "\n",
       "    .dataframe tbody tr th {\n",
       "        vertical-align: top;\n",
       "    }\n",
       "\n",
       "    .dataframe thead th {\n",
       "        text-align: right;\n",
       "    }\n",
       "</style>\n",
       "<table border=\"1\" class=\"dataframe\">\n",
       "  <thead>\n",
       "    <tr style=\"text-align: right;\">\n",
       "      <th></th>\n",
       "      <th>item1</th>\n",
       "      <th>item2</th>\n",
       "      <th>item3</th>\n",
       "      <th>item4</th>\n",
       "      <th>item5</th>\n",
       "      <th>item6</th>\n",
       "    </tr>\n",
       "  </thead>\n",
       "  <tbody>\n",
       "    <tr>\n",
       "      <th>user1</th>\n",
       "      <td>3</td>\n",
       "      <td>1</td>\n",
       "      <td>5</td>\n",
       "      <td>1</td>\n",
       "      <td>5</td>\n",
       "      <td>2</td>\n",
       "    </tr>\n",
       "    <tr>\n",
       "      <th>user2</th>\n",
       "      <td>5</td>\n",
       "      <td>3</td>\n",
       "      <td>1</td>\n",
       "      <td>3</td>\n",
       "      <td>5</td>\n",
       "      <td>3</td>\n",
       "    </tr>\n",
       "    <tr>\n",
       "      <th>user3</th>\n",
       "      <td>3</td>\n",
       "      <td>5</td>\n",
       "      <td>4</td>\n",
       "      <td>2</td>\n",
       "      <td>4</td>\n",
       "      <td>3</td>\n",
       "    </tr>\n",
       "    <tr>\n",
       "      <th>user4</th>\n",
       "      <td>2</td>\n",
       "      <td>1</td>\n",
       "      <td>2</td>\n",
       "      <td>2</td>\n",
       "      <td>5</td>\n",
       "      <td>5</td>\n",
       "    </tr>\n",
       "    <tr>\n",
       "      <th>user5</th>\n",
       "      <td>2</td>\n",
       "      <td>2</td>\n",
       "      <td>4</td>\n",
       "      <td>5</td>\n",
       "      <td>3</td>\n",
       "      <td>4</td>\n",
       "    </tr>\n",
       "  </tbody>\n",
       "</table>\n",
       "</div>"
      ],
      "text/plain": [
       "       item1  item2  item3  item4  item5  item6\n",
       "user1      3      1      5      1      5      2\n",
       "user2      5      3      1      3      5      3\n",
       "user3      3      5      4      2      4      3\n",
       "user4      2      1      2      2      5      5\n",
       "user5      2      2      4      5      3      4"
      ]
     },
     "execution_count": 82,
     "metadata": {},
     "output_type": "execute_result"
    }
   ],
   "source": [
    "data={'item1':[3,5,3,2,2],'item2':[1,3,5,1,2],'item3':[5,1,4,2,4],'item4':[1,3,2,2,5],'item5':[5,5,4,5,3],'item6':[2,3,3,5,4]}\n",
    "df=pd.DataFrame(data,index=['user1','user2','user3','user4','user5'])\n",
    "df\n"
   ]
  },
  {
   "cell_type": "code",
   "execution_count": 83,
   "id": "8d3b4884",
   "metadata": {},
   "outputs": [
    {
     "data": {
      "text/plain": [
       "array([[3., 1., 5., 1., 5., 2.],\n",
       "       [5., 3., 1., 3., 5., 3.],\n",
       "       [3., 5., 4., 2., 4., 3.],\n",
       "       [2., 1., 2., 2., 5., 5.],\n",
       "       [2., 2., 4., 5., 3., 4.]])"
      ]
     },
     "execution_count": 83,
     "metadata": {},
     "output_type": "execute_result"
    }
   ],
   "source": [
    "t=np.array(df,dtype=float)\n",
    "t"
   ]
  },
  {
   "cell_type": "code",
   "execution_count": 84,
   "id": "2416be36",
   "metadata": {},
   "outputs": [
    {
     "name": "stdout",
     "output_type": "stream",
     "text": [
      "[5.0, 3.0, 4.0, 5.0, 4.0]\n",
      "[2, 1, 4, 5, 5]\n"
     ]
    }
   ],
   "source": [
    "miss=[]\n",
    "idx=[]\n",
    "for i in range(t.shape[0]):\n",
    "    a=random.randint(0,5)\n",
    "    miss.append(t[i][a])\n",
    "    idx.append(a)\n",
    "    t[i][a]=np.nan\n",
    "print(miss)\n",
    "print(idx)\n",
    "    "
   ]
  },
  {
   "cell_type": "code",
   "execution_count": 85,
   "id": "4b1fbbe1",
   "metadata": {},
   "outputs": [
    {
     "data": {
      "text/plain": [
       "array([[ 3.,  1., nan,  1.,  5.,  2.],\n",
       "       [ 5., nan,  1.,  3.,  5.,  3.],\n",
       "       [ 3.,  5.,  4.,  2., nan,  3.],\n",
       "       [ 2.,  1.,  2.,  2.,  5., nan],\n",
       "       [ 2.,  2.,  4.,  5.,  3., nan]])"
      ]
     },
     "execution_count": 85,
     "metadata": {},
     "output_type": "execute_result"
    }
   ],
   "source": [
    "t"
   ]
  },
  {
   "cell_type": "code",
   "execution_count": 86,
   "id": "93d69dc1",
   "metadata": {},
   "outputs": [
    {
     "name": "stdout",
     "output_type": "stream",
     "text": [
      "[[2.4]\n",
      " [3.4]\n",
      " [3.4]\n",
      " [2.4]\n",
      " [3.2]]\n"
     ]
    }
   ],
   "source": [
    "rowmeans=(np.nanmean(t,axis=1,keepdims=True))\n",
    "print(rowmeans)"
   ]
  },
  {
   "cell_type": "code",
   "execution_count": 87,
   "id": "46053aa3",
   "metadata": {},
   "outputs": [
    {
     "data": {
      "text/plain": [
       "array([[ 0.6, -1.4,  nan, -1.4,  2.6, -0.4],\n",
       "       [ 1.6,  nan, -2.4, -0.4,  1.6, -0.4],\n",
       "       [-0.4,  1.6,  0.6, -1.4,  nan, -0.4],\n",
       "       [-0.4, -1.4, -0.4, -0.4,  2.6,  nan],\n",
       "       [-1.2, -1.2,  0.8,  1.8, -0.2,  nan]])"
      ]
     },
     "execution_count": 87,
     "metadata": {},
     "output_type": "execute_result"
    }
   ],
   "source": [
    "t=t-rowmeans\n",
    "t"
   ]
  },
  {
   "cell_type": "code",
   "execution_count": 88,
   "id": "2bfae72b",
   "metadata": {},
   "outputs": [
    {
     "data": {
      "text/plain": [
       "array([[ 0.6, -1.4,  0. , -1.4,  2.6, -0.4],\n",
       "       [ 1.6,  0. , -2.4, -0.4,  1.6, -0.4],\n",
       "       [-0.4,  1.6,  0.6, -1.4,  0. , -0.4],\n",
       "       [-0.4, -1.4, -0.4, -0.4,  2.6,  0. ],\n",
       "       [-1.2, -1.2,  0.8,  1.8, -0.2,  0. ]])"
      ]
     },
     "execution_count": 88,
     "metadata": {},
     "output_type": "execute_result"
    }
   ],
   "source": [
    "for i in range(t.shape[0]):\n",
    "    for j in range(t.shape[1]):\n",
    "        if t[i][j]>0 or t[i][j]<0:\n",
    "            continue\n",
    "        else:\n",
    "            t[i][j]=0\n",
    "t"
   ]
  },
  {
   "cell_type": "code",
   "execution_count": 89,
   "id": "7a00469e",
   "metadata": {},
   "outputs": [],
   "source": [
    "from numpy.linalg import norm\n",
    "\n",
    "def cosine(a,b):\n",
    "    cos=np.dot(a,b)/(norm(a)*norm(b))\n",
    "    return cos"
   ]
  },
  {
   "cell_type": "code",
   "execution_count": 90,
   "id": "ddafc648",
   "metadata": {},
   "outputs": [],
   "source": [
    "predictions=[]\n",
    "for i in range(t.shape[0]):\n",
    "    userdata=t[i][:]\n",
    "    data1=t[0:i][:]\n",
    "    data2=t[i+1:t.shape[0]][:]\n",
    "    data=np.vstack((data1,data2))\n",
    "    simi=[]\n",
    "    idx=[]\n",
    "    m=0\n",
    "    for j in data:\n",
    "        s=cosine(userdata,j)\n",
    "        simi.append(s)\n",
    "        idx.append(m)\n",
    "        m+=1\n",
    "    for j in range(len(simi)):\n",
    "        for m in range(len(simi)-1):\n",
    "            if simi[m]<=simi[j]:\n",
    "                t1=simi[m]\n",
    "                simi[m]=simi[j]\n",
    "                simi[j]=t1\n",
    "\n",
    "                t1=idx[m]\n",
    "                idx[m]=idx[j]\n",
    "                idx[j]=t1\n",
    "    #let n=3\n",
    "    n=3\n",
    "    idx=idx[:n]\n",
    "    simi=simi[:n]\n",
    "    predata=data[idx]\n",
    "    predindex=[]\n",
    "    \n",
    "    for j in range(len(userdata)):\n",
    "        if userdata[j]==0:\n",
    "            predindex.append(j)\n",
    "            num=0\n",
    "            den=0\n",
    "            for k in range(len(predata)):\n",
    "                num=num+simi[k]*predata[k][j]\n",
    "                den=den+simi[k]\n",
    "            userdata[j]=num/den\n",
    "            predictions.append(userdata[j])\n",
    "            \n",
    "            \n",
    "\n",
    "\n",
    "\n",
    "\n",
    "\n",
    "    "
   ]
  },
  {
   "cell_type": "code",
   "execution_count": 91,
   "id": "0aeb0cca",
   "metadata": {},
   "outputs": [
    {
     "data": {
      "text/plain": [
       "array([-1.19866177, -1.92849446,  2.03436352, -0.4       , -0.4       ])"
      ]
     },
     "execution_count": 91,
     "metadata": {},
     "output_type": "execute_result"
    }
   ],
   "source": [
    "predictions=np.array(predictions)\n",
    "predictions"
   ]
  },
  {
   "cell_type": "code",
   "execution_count": 92,
   "id": "08840d93",
   "metadata": {},
   "outputs": [
    {
     "data": {
      "text/plain": [
       "array([2.4, 3.4, 3.4, 2.4, 3.2])"
      ]
     },
     "execution_count": 92,
     "metadata": {},
     "output_type": "execute_result"
    }
   ],
   "source": [
    "r=rowmeans.flatten()\n",
    "r"
   ]
  },
  {
   "cell_type": "code",
   "execution_count": 93,
   "id": "41d47fb8",
   "metadata": {},
   "outputs": [
    {
     "data": {
      "text/plain": [
       "array([1.20133823, 1.47150554, 5.43436352, 2.        , 2.8       ])"
      ]
     },
     "execution_count": 93,
     "metadata": {},
     "output_type": "execute_result"
    }
   ],
   "source": [
    "p=predictions+r\n",
    "p"
   ]
  },
  {
   "cell_type": "code",
   "execution_count": 94,
   "id": "1f33fbef",
   "metadata": {},
   "outputs": [
    {
     "data": {
      "text/plain": [
       "[5.0, 3.0, 4.0, 5.0, 4.0]"
      ]
     },
     "execution_count": 94,
     "metadata": {},
     "output_type": "execute_result"
    }
   ],
   "source": [
    "miss"
   ]
  },
  {
   "cell_type": "code",
   "execution_count": 97,
   "id": "51fc6f3d",
   "metadata": {},
   "outputs": [
    {
     "data": {
      "text/plain": [
       "4.797857689967558"
      ]
     },
     "execution_count": 97,
     "metadata": {},
     "output_type": "execute_result"
    }
   ],
   "source": [
    "import math\n",
    "\n",
    "MSE = np.square(np.subtract(miss,predictions)).mean()\n",
    "rmse = math.sqrt(MSE)\n",
    "rmse"
   ]
  },
  {
   "cell_type": "code",
   "execution_count": null,
   "id": "d9da08c9",
   "metadata": {},
   "outputs": [],
   "source": []
  }
 ],
 "metadata": {
  "kernelspec": {
   "display_name": "Python 3 (ipykernel)",
   "language": "python",
   "name": "python3"
  },
  "language_info": {
   "codemirror_mode": {
    "name": "ipython",
    "version": 3
   },
   "file_extension": ".py",
   "mimetype": "text/x-python",
   "name": "python",
   "nbconvert_exporter": "python",
   "pygments_lexer": "ipython3",
   "version": "3.10.1"
  }
 },
 "nbformat": 4,
 "nbformat_minor": 5
}

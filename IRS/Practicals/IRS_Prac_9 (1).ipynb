{
 "cells": [
  {
   "cell_type": "markdown",
   "id": "b8919ffc",
   "metadata": {},
   "source": [
    " <h1>20BCE020 <br>\n",
    "Practical-9 IRS <br>\n",
    "Implement a Traditional Recommender System using the Collaborative Filtering technique. The recommender system predicts a rating for an unknown item for a specific user. <br>\n"
   ]
  },
  {
   "cell_type": "code",
   "execution_count": 1,
   "id": "af8c569c",
   "metadata": {},
   "outputs": [
    {
     "name": "stdout",
     "output_type": "stream",
     "text": [
      "{'User': ['U1', 'U2', 'U3', 'U4', 'U5'], 'movie1': [3, nan, 5, 1, 5], 'movie2': [5, 4, 1, nan, 5], 'movie3': [nan, 5, 4, 2, 4], 'movie4': [2, 1, 2, 2, nan], 'movie5': [nan, 2, nan, 5, nan]}\n"
     ]
    }
   ],
   "source": [
    "import numpy as np\n",
    "import pandas as pd\n",
    "dic={\"User\":[\"U1\",\"U2\",\"U3\",\"U4\",\"U5\"],\n",
    " \"movie1\":[3,np.nan,5,1,5],\n",
    " \"movie2\":[5,4,1,np.nan,5],\n",
    " \"movie3\":[np.nan,5,4,2,4],\n",
    " \"movie4\":[2,1,2,2,np.nan],\n",
    " \"movie5\":[np.nan,2,np.nan,5,np.nan],\n",
    "}\n",
    "print(dic)\n",
    "df=pd.DataFrame(dic)\n",
    "df=df.set_index('User')"
   ]
  },
  {
   "cell_type": "code",
   "execution_count": 2,
   "id": "4fb655df",
   "metadata": {},
   "outputs": [
    {
     "name": "stdout",
     "output_type": "stream",
     "text": [
      "      movie1  movie2  movie3  movie4  movie5\n",
      "User                                        \n",
      "U1       3.0     5.0     NaN     2.0     NaN\n",
      "U2       NaN     4.0     5.0     1.0     2.0\n",
      "U3       5.0     1.0     4.0     2.0     NaN\n",
      "U4       1.0     NaN     2.0     2.0     5.0\n",
      "U5       5.0     5.0     4.0     NaN     NaN\n"
     ]
    }
   ],
   "source": [
    "print(df)"
   ]
  },
  {
   "cell_type": "code",
   "execution_count": 3,
   "id": "43d346c7",
   "metadata": {},
   "outputs": [],
   "source": [
    "ddf=df"
   ]
  },
  {
   "cell_type": "code",
   "execution_count": 5,
   "id": "297cb03d",
   "metadata": {},
   "outputs": [
    {
     "name": "stdout",
     "output_type": "stream",
     "text": [
      "      movie1  movie2  movie3  movie4  movie5\n",
      "User                                        \n",
      "U1       3.0     5.0     0.0     2.0     0.0\n",
      "U2       0.0     4.0     5.0     1.0     2.0\n",
      "U3       5.0     1.0     4.0     2.0     0.0\n",
      "U4       1.0     0.0     2.0     2.0     5.0\n",
      "U5       5.0     5.0     4.0     0.0     0.0\n"
     ]
    }
   ],
   "source": [
    "df=df.fillna(0)\n",
    "print(df)"
   ]
  },
  {
   "cell_type": "code",
   "execution_count": 6,
   "id": "f9eb7036",
   "metadata": {},
   "outputs": [
    {
     "name": "stdout",
     "output_type": "stream",
     "text": [
      "User\n",
      "U1    3.333333\n",
      "U2    3.000000\n",
      "U3    3.000000\n",
      "U4    2.500000\n",
      "U5    4.666667\n",
      "dtype: float64\n"
     ]
    }
   ],
   "source": [
    "row_mean=ddf.mean(axis=1)\n",
    "print(row_mean)\n",
    "ddf = ddf.sub(row_mean, axis=0)"
   ]
  },
  {
   "cell_type": "code",
   "execution_count": 7,
   "id": "074e8977",
   "metadata": {},
   "outputs": [
    {
     "name": "stdout",
     "output_type": "stream",
     "text": [
      "        movie1    movie2    movie3    movie4  movie5\n",
      "User                                                \n",
      "U1   -0.333333  1.666667  0.000000 -1.333333     0.0\n",
      "U2    0.000000  1.000000  2.000000 -2.000000    -1.0\n",
      "U3    2.000000 -2.000000  1.000000 -1.000000     0.0\n",
      "U4   -1.500000  0.000000 -0.500000 -0.500000     2.5\n",
      "U5    0.333333  0.333333 -0.666667  0.000000     0.0\n"
     ]
    }
   ],
   "source": [
    "ddf=ddf.fillna(0)\n",
    "print(ddf)"
   ]
  },
  {
   "cell_type": "code",
   "execution_count": 8,
   "id": "dca55a91",
   "metadata": {},
   "outputs": [
    {
     "name": "stdout",
     "output_type": "stream",
     "text": [
      "[[ 1.          0.63433505 -0.39036003  0.18002057  0.25197632]\n",
      " [ 0.63433505  1.          0.2        -0.26352314 -0.38729833]\n",
      " [-0.39036003  0.2         1.         -0.31622777 -0.25819889]\n",
      " [ 0.18002057 -0.26352314 -0.31622777  1.         -0.06804138]\n",
      " [ 0.25197632 -0.38729833 -0.25819889 -0.06804138  1.        ]]\n"
     ]
    }
   ],
   "source": [
    "from sklearn.metrics.pairwise import cosine_similarity\n",
    "cos_sim=cosine_similarity(ddf)\n",
    "print(cos_sim)"
   ]
  },
  {
   "cell_type": "code",
   "execution_count": 9,
   "id": "8678a30e",
   "metadata": {},
   "outputs": [
    {
     "name": "stdout",
     "output_type": "stream",
     "text": [
      "Window Size:3\n"
     ]
    }
   ],
   "source": [
    "win=int(input(\"Window Size:\"))"
   ]
  },
  {
   "cell_type": "code",
   "execution_count": 10,
   "id": "a1b7b1dd",
   "metadata": {},
   "outputs": [
    {
     "name": "stdout",
     "output_type": "stream",
     "text": [
      "[1, 4, 3]\n",
      "[0, 2, 3]\n",
      "[1, 0, 3]\n",
      "[3, 4, 0]\n",
      "[4, 3, 2]\n"
     ]
    }
   ],
   "source": [
    "pred={}\n",
    "for i in range(df.shape[0]):\n",
    "    k=cos_sim[i]\n",
    "    a=cos_sim[i].copy()\n",
    "    a=sorted(a,reverse=True)\n",
    "    inx=[a.index(x) for x in k]\n",
    "    inx=inx[1:win+1]\n",
    "    print(inx)\n",
    "    zc=ddf.columns[ddf.iloc[i]==0]\n",
    "    p={}\n",
    "    for j in range(len(zc)):\n",
    "        col=zc[j]\n",
    "        s=0\n",
    "        n=0\n",
    "        d=0\n",
    "        for k in range(len(inx)):\n",
    "            n+=(cos_sim[i][inx[k]])*(df.iloc[inx[k]][col])\n",
    "            d+=cos_sim[i][inx[k]]\n",
    "        s=n/d\n",
    "        p[col]=s\n",
    "    pred[i]=p"
   ]
  },
  {
   "cell_type": "code",
   "execution_count": 11,
   "id": "4b993532",
   "metadata": {},
   "outputs": [
    {
     "name": "stdout",
     "output_type": "stream",
     "text": [
      "{0: {'movie3': 4.257231250236764, 'movie5': 2.0338629022645964}, 1: {'movie1': 4.624083628890043}, 2: {'movie5': 2.331558006893195}, 3: {'movie2': 0.5035129879020519}, 4: {'movie4': -0.9684172493157471, 'movie5': -0.5049380280902468}}\n"
     ]
    }
   ],
   "source": [
    "print(pred)"
   ]
  },
  {
   "cell_type": "code",
   "execution_count": 32,
   "id": "0ef90cc0",
   "metadata": {},
   "outputs": [],
   "source": [
    "# print(len(pred[0]))\n",
    "for i in range(len(pred)):\n",
    "    zc=ddf.columns[ddf.iloc[i]==0]\n",
    "    for k,v in pred[i].items():\n",
    "        df.iloc[i][k]=v"
   ]
  },
  {
   "cell_type": "code",
   "execution_count": 33,
   "id": "217e8e90",
   "metadata": {},
   "outputs": [
    {
     "name": "stdout",
     "output_type": "stream",
     "text": [
      "        movie1    movie2    movie3    movie4    movie5\n",
      "User                                                  \n",
      "U1    3.000000  5.000000  4.257231  2.000000  2.033863\n",
      "U2    4.624084  4.000000  5.000000  1.000000  2.000000\n",
      "U3    5.000000  1.000000  4.000000  2.000000  2.331558\n",
      "U4    1.000000  0.503513  2.000000  2.000000  5.000000\n",
      "U5    5.000000  5.000000  4.000000 -0.968417 -0.504938\n"
     ]
    }
   ],
   "source": [
    "print(df)"
   ]
  },
  {
   "cell_type": "code",
   "execution_count": 73,
   "id": "b40c9b76",
   "metadata": {},
   "outputs": [
    {
     "name": "stdout",
     "output_type": "stream",
     "text": [
      "{'User': ['U1', 'U2', 'U3', 'U4', 'U5'], 'movie1': [3, nan, 5, 1, 5], 'movie2': [nan, 4, 1, nan, nan], 'movie3': [nan, nan, 4, 2, 4], 'movie4': [2, nan, 2, nan, nan], 'movie5': [nan, 2, nan, 5, nan]}\n"
     ]
    }
   ],
   "source": [
    "import numpy as np\n",
    "import pandas as pd\n",
    "dic={\"User\":[\"U1\",\"U2\",\"U3\",\"U4\",\"U5\"],\n",
    " \"movie1\":[3,np.nan,5,1,5],\n",
    " \"movie2\":[np.nan,4,1,np.nan,np.nan],\n",
    " \"movie3\":[np.nan,np.nan,4,2,4],\n",
    " \"movie4\":[2,np.nan,2,np.nan,np.nan],\n",
    " \"movie5\":[np.nan,2,np.nan,5,np.nan],\n",
    "}\n",
    "print(dic)\n",
    "df1=pd.DataFrame(dic)\n",
    "df1=df1.set_index('User')"
   ]
  },
  {
   "cell_type": "code",
   "execution_count": 74,
   "id": "48068e1b",
   "metadata": {},
   "outputs": [
    {
     "name": "stdout",
     "output_type": "stream",
     "text": [
      "      movie1  movie2  movie3  movie4  movie5\n",
      "User                                        \n",
      "U1       3.0     NaN     NaN     2.0     NaN\n",
      "U2       NaN     4.0     NaN     NaN     2.0\n",
      "U3       5.0     1.0     4.0     2.0     NaN\n",
      "U4       1.0     NaN     2.0     NaN     5.0\n",
      "U5       5.0     NaN     4.0     NaN     NaN\n"
     ]
    }
   ],
   "source": [
    "print(df1)"
   ]
  },
  {
   "cell_type": "code",
   "execution_count": 75,
   "id": "04768e17",
   "metadata": {},
   "outputs": [],
   "source": [
    "ddf1=df1.copy()"
   ]
  },
  {
   "cell_type": "code",
   "execution_count": 76,
   "id": "ad2c1e5d",
   "metadata": {},
   "outputs": [
    {
     "name": "stdout",
     "output_type": "stream",
     "text": [
      "      movie1  movie2  movie3  movie4  movie5\n",
      "User                                        \n",
      "U1       3.0     0.0     0.0     2.0     0.0\n",
      "U2       0.0     4.0     0.0     0.0     2.0\n",
      "U3       5.0     1.0     4.0     2.0     0.0\n",
      "U4       1.0     0.0     2.0     0.0     5.0\n",
      "U5       5.0     0.0     4.0     0.0     0.0\n"
     ]
    }
   ],
   "source": [
    "df1=df1.fillna(0)\n",
    "print(df1)"
   ]
  },
  {
   "cell_type": "code",
   "execution_count": 77,
   "id": "1031016f",
   "metadata": {},
   "outputs": [
    {
     "name": "stdout",
     "output_type": "stream",
     "text": [
      "User\n",
      "U1    2.500000\n",
      "U2    3.000000\n",
      "U3    3.000000\n",
      "U4    2.666667\n",
      "U5    4.500000\n",
      "dtype: float64\n"
     ]
    }
   ],
   "source": [
    "row_mean=ddf1.mean(axis=1)\n",
    "print(row_mean)\n",
    "ddf1= ddf1.sub(row_mean, axis=0)"
   ]
  },
  {
   "cell_type": "code",
   "execution_count": 78,
   "id": "d9d20974",
   "metadata": {},
   "outputs": [
    {
     "name": "stdout",
     "output_type": "stream",
     "text": [
      "        movie1  movie2    movie3  movie4    movie5\n",
      "User                                              \n",
      "U1    0.500000     0.0  0.000000    -0.5  0.000000\n",
      "U2    0.000000     1.0  0.000000     0.0 -1.000000\n",
      "U3    2.000000    -2.0  1.000000    -1.0  0.000000\n",
      "U4   -1.666667     0.0 -0.666667     0.0  2.333333\n",
      "U5    0.500000     0.0 -0.500000     0.0  0.000000\n"
     ]
    }
   ],
   "source": [
    "ddf1=ddf1.fillna(0)\n",
    "print(ddf1)"
   ]
  },
  {
   "cell_type": "code",
   "execution_count": 79,
   "id": "d2b4e535",
   "metadata": {},
   "outputs": [
    {
     "name": "stdout",
     "output_type": "stream",
     "text": [
      "[[ 1.          0.          0.67082039 -0.40032038  0.5       ]\n",
      " [ 0.          1.         -0.4472136  -0.56044854  0.        ]\n",
      " [ 0.67082039 -0.4472136   1.         -0.42966892  0.2236068 ]\n",
      " [-0.40032038 -0.56044854 -0.42966892  1.         -0.24019223]\n",
      " [ 0.5         0.          0.2236068  -0.24019223  1.        ]]\n"
     ]
    }
   ],
   "source": [
    "from sklearn.metrics.pairwise import cosine_similarity\n",
    "cos=cosine_similarity(ddf1)\n",
    "print(cos)"
   ]
  },
  {
   "cell_type": "code",
   "execution_count": 80,
   "id": "eabbaae7",
   "metadata": {},
   "outputs": [
    {
     "name": "stdout",
     "output_type": "stream",
     "text": [
      "Window Size:3\n"
     ]
    }
   ],
   "source": [
    "w=int(input(\"Window Size:\"))"
   ]
  },
  {
   "cell_type": "code",
   "execution_count": 81,
   "id": "1553e258",
   "metadata": {},
   "outputs": [
    {
     "name": "stdout",
     "output_type": "stream",
     "text": [
      "[3, 1, 4]\n",
      "[0, 3, 4]\n",
      "[4, 0, 3]\n",
      "[4, 3, 0]\n",
      "[3, 2, 4]\n"
     ]
    }
   ],
   "source": [
    "pr={}\n",
    "for i in range(df.shape[0]):\n",
    "    k=cos[i]\n",
    "    a=cos[i].copy()\n",
    "    a=sorted(a,reverse=True)\n",
    "    inx=[a.index(x) for x in k]\n",
    "    inx=inx[1:win+1]\n",
    "    print(inx)\n",
    "    zc=ddf1.columns[ddf1.iloc[i]==0]\n",
    "    p={}\n",
    "    for j in range(len(zc)):\n",
    "        col=zc[j]\n",
    "        s=0\n",
    "        n=0\n",
    "        d=0\n",
    "        for k in range(len(inx)):\n",
    "            n+=(cos[i][inx[k]])*(df1.iloc[inx[k]][col])\n",
    "            d+=cos[i][inx[k]]\n",
    "        s=n/d\n",
    "        p[col]=s\n",
    "    pr[i]=p"
   ]
  },
  {
   "cell_type": "code",
   "execution_count": 82,
   "id": "d4310f1f",
   "metadata": {},
   "outputs": [
    {
     "name": "stdout",
     "output_type": "stream",
     "text": [
      "{0: {'movie2': 0.0, 'movie3': 12.032141427427428, 'movie5': -20.080353568568565}, 1: {'movie1': 1.0, 'movie3': 2.0, 'movie4': -0.0}, 2: {'movie5': -4.6224989991991965}, 3: {'movie2': 0.0, 'movie4': -2.227173477912695}, 4: {'movie2': 0.22737795965589958, 'movie4': 0.45475591931179915, 'movie5': -1.221215542037458}}\n"
     ]
    }
   ],
   "source": [
    "print(pr)"
   ]
  },
  {
   "cell_type": "code",
   "execution_count": 85,
   "id": "58ec8b28",
   "metadata": {},
   "outputs": [],
   "source": [
    "for i in range(len(pr)):\n",
    "    zc=ddf1.columns[ddf1.iloc[i]==0]\n",
    "    for k,v in pr[i].items():\n",
    "        df1.iloc[i][k]=v"
   ]
  },
  {
   "cell_type": "code",
   "execution_count": 86,
   "id": "2322e1f4",
   "metadata": {},
   "outputs": [
    {
     "name": "stdout",
     "output_type": "stream",
     "text": [
      "      movie1    movie2     movie3    movie4     movie5\n",
      "User                                                  \n",
      "U1       3.0  0.000000  12.032141  2.000000 -20.080354\n",
      "U2       1.0  4.000000   2.000000 -0.000000   2.000000\n",
      "U3       5.0  1.000000   4.000000  2.000000  -4.622499\n",
      "U4       1.0  0.000000   2.000000 -2.227173   5.000000\n",
      "U5       5.0  0.227378   4.000000  0.454756  -1.221216\n"
     ]
    }
   ],
   "source": [
    "print(df1)"
   ]
  },
  {
   "cell_type": "code",
   "execution_count": 89,
   "id": "fb36320b",
   "metadata": {},
   "outputs": [
    {
     "name": "stdout",
     "output_type": "stream",
     "text": [
      "        movie1    movie2    movie3    movie4    movie5\n",
      "User                                                  \n",
      "U1    3.000000  5.000000  4.257231  2.000000  2.033863\n",
      "U2    4.624084  4.000000  5.000000  1.000000  2.000000\n",
      "U3    5.000000  1.000000  4.000000  2.000000  2.331558\n",
      "U4    1.000000  0.503513  2.000000  2.000000  5.000000\n",
      "U5    5.000000  5.000000  4.000000 -0.968417 -0.504938\n"
     ]
    }
   ],
   "source": [
    "print(df)"
   ]
  },
  {
   "cell_type": "code",
   "execution_count": 88,
   "id": "830bab6c",
   "metadata": {},
   "outputs": [
    {
     "data": {
      "text/html": [
       "<div>\n",
       "<style scoped>\n",
       "    .dataframe tbody tr th:only-of-type {\n",
       "        vertical-align: middle;\n",
       "    }\n",
       "\n",
       "    .dataframe tbody tr th {\n",
       "        vertical-align: top;\n",
       "    }\n",
       "\n",
       "    .dataframe thead th {\n",
       "        text-align: right;\n",
       "    }\n",
       "</style>\n",
       "<table border=\"1\" class=\"dataframe\">\n",
       "  <thead>\n",
       "    <tr style=\"text-align: right;\">\n",
       "      <th></th>\n",
       "      <th>movie1</th>\n",
       "      <th>movie2</th>\n",
       "      <th>movie3</th>\n",
       "      <th>movie4</th>\n",
       "      <th>movie5</th>\n",
       "    </tr>\n",
       "    <tr>\n",
       "      <th>User</th>\n",
       "      <th></th>\n",
       "      <th></th>\n",
       "      <th></th>\n",
       "      <th></th>\n",
       "      <th></th>\n",
       "    </tr>\n",
       "  </thead>\n",
       "  <tbody>\n",
       "    <tr>\n",
       "      <th>U1</th>\n",
       "      <td>0.000000</td>\n",
       "      <td>5.000000</td>\n",
       "      <td>-7.77491</td>\n",
       "      <td>0.000000</td>\n",
       "      <td>22.114216</td>\n",
       "    </tr>\n",
       "    <tr>\n",
       "      <th>U2</th>\n",
       "      <td>3.624084</td>\n",
       "      <td>0.000000</td>\n",
       "      <td>3.00000</td>\n",
       "      <td>1.000000</td>\n",
       "      <td>0.000000</td>\n",
       "    </tr>\n",
       "    <tr>\n",
       "      <th>U3</th>\n",
       "      <td>0.000000</td>\n",
       "      <td>0.000000</td>\n",
       "      <td>0.00000</td>\n",
       "      <td>0.000000</td>\n",
       "      <td>6.954057</td>\n",
       "    </tr>\n",
       "    <tr>\n",
       "      <th>U4</th>\n",
       "      <td>0.000000</td>\n",
       "      <td>0.503513</td>\n",
       "      <td>0.00000</td>\n",
       "      <td>4.227173</td>\n",
       "      <td>0.000000</td>\n",
       "    </tr>\n",
       "    <tr>\n",
       "      <th>U5</th>\n",
       "      <td>0.000000</td>\n",
       "      <td>4.772622</td>\n",
       "      <td>0.00000</td>\n",
       "      <td>-1.423173</td>\n",
       "      <td>0.716278</td>\n",
       "    </tr>\n",
       "  </tbody>\n",
       "</table>\n",
       "</div>"
      ],
      "text/plain": [
       "        movie1    movie2   movie3    movie4     movie5\n",
       "User                                                  \n",
       "U1    0.000000  5.000000 -7.77491  0.000000  22.114216\n",
       "U2    3.624084  0.000000  3.00000  1.000000   0.000000\n",
       "U3    0.000000  0.000000  0.00000  0.000000   6.954057\n",
       "U4    0.000000  0.503513  0.00000  4.227173   0.000000\n",
       "U5    0.000000  4.772622  0.00000 -1.423173   0.716278"
      ]
     },
     "execution_count": 88,
     "metadata": {},
     "output_type": "execute_result"
    }
   ],
   "source": [
    "difff=df-df1\n",
    "difff"
   ]
  },
  {
   "cell_type": "code",
   "execution_count": 90,
   "id": "66d8814b",
   "metadata": {},
   "outputs": [
    {
     "name": "stdout",
     "output_type": "stream",
     "text": [
      "movie1     1.620739\n",
      "movie2     3.099401\n",
      "movie3     3.726908\n",
      "movie4     2.044232\n",
      "movie5    10.372179\n",
      "dtype: float64\n"
     ]
    },
    {
     "name": "stderr",
     "output_type": "stream",
     "text": [
      "D:\\python\\lib\\site-packages\\numpy\\core\\fromnumeric.py:3472: FutureWarning: In a future version, DataFrame.mean(axis=None) will return a scalar mean over the entire DataFrame. To retain the old behavior, use 'frame.mean(axis=0)' or just 'frame.mean()'\n",
      "  return mean(axis=axis, dtype=dtype, out=out, **kwargs)\n"
     ]
    }
   ],
   "source": [
    "sq= np.square(difff)\n",
    "ms = np.mean(sq)\n",
    "rms = np.sqrt(ms)\n",
    "print(rms)"
   ]
  }
 ],
 "metadata": {
  "kernelspec": {
   "display_name": "Python 3 (ipykernel)",
   "language": "python",
   "name": "python3"
  },
  "language_info": {
   "codemirror_mode": {
    "name": "ipython",
    "version": 3
   },
   "file_extension": ".py",
   "mimetype": "text/x-python",
   "name": "python",
   "nbconvert_exporter": "python",
   "pygments_lexer": "ipython3",
   "version": "3.10.5"
  }
 },
 "nbformat": 4,
 "nbformat_minor": 5
}
